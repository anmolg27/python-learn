{
 "cells": [
  {
   "cell_type": "code",
   "execution_count": 1,
   "id": "81b171f9",
   "metadata": {},
   "outputs": [
    {
     "name": "stdout",
     "output_type": "stream",
     "text": [
      "hello world\n"
     ]
    }
   ],
   "source": [
    "print(\"hello world\")\n"
   ]
  },
  {
   "cell_type": "code",
   "execution_count": 1,
   "id": "ebe92480",
   "metadata": {},
   "outputs": [
    {
     "name": "stdout",
     "output_type": "stream",
     "text": [
      "Hello\n"
     ]
    }
   ],
   "source": [
    "name = \"Python Learner\"\n",
    "\n",
    "print(\"Hello\")"
   ]
  },
  {
   "cell_type": "code",
   "execution_count": 6,
   "id": "6728058f",
   "metadata": {},
   "outputs": [
    {
     "name": "stdout",
     "output_type": "stream",
     "text": [
      "My name is Alice and I am 25 years old\n"
     ]
    }
   ],
   "source": [
    "name = \"Alice\"\n",
    "age = 25\n",
    "print(\"My name is %s and I am %i years old\" % (name, age))"
   ]
  },
  {
   "cell_type": "code",
   "execution_count": 10,
   "id": "19aa6715",
   "metadata": {},
   "outputs": [
    {
     "name": "stdout",
     "output_type": "stream",
     "text": [
      "HELLO WORLD\n",
      "hello world\n",
      "Hello World\n"
     ]
    }
   ],
   "source": [
    "text = \"Hello world\"\n",
    "\n",
    "print(text.upper())\n",
    "print(text.lower())\n",
    "print(text.title())"
   ]
  },
  {
   "cell_type": "code",
   "execution_count": null,
   "id": "2e7392c9",
   "metadata": {},
   "outputs": [],
   "source": [
    "age = 27\n",
    "name = \"Anmol Gurung\"\n",
    "print()"
   ]
  },
  {
   "cell_type": "code",
   "execution_count": 18,
   "id": "a259138f",
   "metadata": {},
   "outputs": [
    {
     "name": "stdout",
     "output_type": "stream",
     "text": [
      "-1\n"
     ]
    }
   ],
   "source": [
    "text = \"  Hello, World!  \"\n",
    "print(text.find(\"    Hello,\"))\n"
   ]
  },
  {
   "cell_type": "code",
   "execution_count": 1,
   "id": "cefb69d3",
   "metadata": {},
   "outputs": [
    {
     "name": "stdout",
     "output_type": "stream",
     "text": [
      "25C = 77.0F\n",
      "25C = $298K\n"
     ]
    }
   ],
   "source": [
    "celsius = 25\n",
    "fahrenheit = (celsius * 9/5) + 32\n",
    "kelvin = celsius + 273\n",
    "\n",
    "print(f\"{celsius}C = {fahrenheit}F\")\n",
    "\n",
    "print(f\"{celsius}C = ${kelvin}K\")\n"
   ]
  },
  {
   "cell_type": "code",
   "execution_count": 3,
   "id": "51965db8",
   "metadata": {},
   "outputs": [
    {
     "name": "stdout",
     "output_type": "stream",
     "text": [
      "First Name: Anmol Doe\n",
      "Username: anmolgurung1@gmail.com\n",
      "Hello, Anmol Doe: Your email is anmolgurung1@gmail.com\n"
     ]
    }
   ],
   "source": [
    "first_name = \"anmol\"\n",
    "last_name = \"doe\"\n",
    "email = \"anmolgurung1@gmail.com\"\n",
    "\n",
    "full_name = first_name.title() + \" \" + last_name.title()\n",
    "\n",
    "user_name = email.lower()\n",
    "\n",
    "print(f\"First Name: {full_name}\")\n",
    "print(f\"Username: {user_name}\")\n",
    "\n",
    "greeting  = f\"Hello, {full_name}: Your email is {email}\"\n",
    "print(greeting)"
   ]
  },
  {
   "cell_type": "code",
   "execution_count": 4,
   "id": "75b11361",
   "metadata": {},
   "outputs": [
    {
     "name": "stdout",
     "output_type": "stream",
     "text": [
      "10 + 3.5 = 13.5\n",
      "10 * 3.5 = 35.0\n",
      "10 / 3.5 = 2.857142857142857\n"
     ]
    }
   ],
   "source": [
    "num1 = 10\n",
    "num2 = 3.5\n",
    "result1 = num1 + num2\n",
    "result2 = num1 * num2\n",
    "result3 = num1 / num2\n",
    "print(f\"{num1} + {num2} = {result1}\")\n",
    "print(f\"{num1} * {num2} = {result2}\")\n",
    "print(f\"{num1} / {num2} = {result3}\")"
   ]
  },
  {
   "cell_type": "code",
   "execution_count": 14,
   "id": "148f07a6",
   "metadata": {},
   "outputs": [
    {
     "name": "stdout",
     "output_type": "stream",
     "text": [
      "3.966666666666667\n"
     ]
    }
   ],
   "source": [
    "a = 11.9\n",
    "b = 3\n",
    "print(a/b)"
   ]
  },
  {
   "cell_type": "code",
   "execution_count": 16,
   "id": "fe22bee3",
   "metadata": {},
   "outputs": [
    {
     "data": {
      "text/plain": [
       "33"
      ]
     },
     "execution_count": 16,
     "metadata": {},
     "output_type": "execute_result"
    }
   ],
   "source": [
    "2**3+ 5**2"
   ]
  },
  {
   "cell_type": "code",
   "execution_count": null,
   "id": "3c1ee3b0",
   "metadata": {},
   "outputs": [],
   "source": []
  },
  {
   "cell_type": "code",
   "execution_count": null,
   "id": "c0d8c317",
   "metadata": {},
   "outputs": [
    {
     "data": {
      "text/plain": [
       "160.0"
      ]
     },
     "execution_count": 17,
     "metadata": {},
     "output_type": "execute_result"
    }
   ],
   "source": [
    "15*2/3*4**2\n",
    "15*2/3*16"
   ]
  },
  {
   "cell_type": "code",
   "execution_count": 23,
   "id": "6b69b573",
   "metadata": {},
   "outputs": [
    {
     "data": {
      "text/plain": [
       "2"
      ]
     },
     "execution_count": 23,
     "metadata": {},
     "output_type": "execute_result"
    }
   ],
   "source": [
    "5 // 2"
   ]
  },
  {
   "cell_type": "code",
   "execution_count": 26,
   "id": "0898a356",
   "metadata": {},
   "outputs": [
    {
     "name": "stdout",
     "output_type": "stream",
     "text": [
      "3\n"
     ]
    }
   ],
   "source": [
    "x = 5 \n",
    "x -= 2\n",
    "print(x)"
   ]
  },
  {
   "cell_type": "code",
   "execution_count": null,
   "id": "fd1a5df7",
   "metadata": {},
   "outputs": [],
   "source": []
  }
 ],
 "metadata": {
  "kernelspec": {
   "display_name": "Python 3",
   "language": "python",
   "name": "python3"
  },
  "language_info": {
   "codemirror_mode": {
    "name": "ipython",
    "version": 3
   },
   "file_extension": ".py",
   "mimetype": "text/x-python",
   "name": "python",
   "nbconvert_exporter": "python",
   "pygments_lexer": "ipython3",
   "version": "3.12.11"
  }
 },
 "nbformat": 4,
 "nbformat_minor": 5
}
