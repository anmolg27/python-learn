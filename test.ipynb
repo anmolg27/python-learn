{
 "cells": [
  {
   "cell_type": "code",
   "execution_count": 1,
   "id": "81b171f9",
   "metadata": {},
   "outputs": [
    {
     "name": "stdout",
     "output_type": "stream",
     "text": [
      "hello world\n"
     ]
    }
   ],
   "source": [
    "print(\"hello world\")\n"
   ]
  },
  {
   "cell_type": "code",
   "execution_count": 1,
   "id": "ebe92480",
   "metadata": {},
   "outputs": [
    {
     "name": "stdout",
     "output_type": "stream",
     "text": [
      "Hello\n"
     ]
    }
   ],
   "source": [
    "name = \"Python Learner\"\n",
    "\n",
    "print(\"Hello\")"
   ]
  },
  {
   "cell_type": "code",
   "execution_count": 6,
   "id": "6728058f",
   "metadata": {},
   "outputs": [
    {
     "name": "stdout",
     "output_type": "stream",
     "text": [
      "My name is Alice and I am 25 years old\n"
     ]
    }
   ],
   "source": [
    "name = \"Alice\"\n",
    "age = 25\n",
    "print(\"My name is %s and I am %i years old\" % (name, age))"
   ]
  },
  {
   "cell_type": "code",
   "execution_count": 10,
   "id": "19aa6715",
   "metadata": {},
   "outputs": [
    {
     "name": "stdout",
     "output_type": "stream",
     "text": [
      "HELLO WORLD\n",
      "hello world\n",
      "Hello World\n"
     ]
    }
   ],
   "source": [
    "text = \"Hello world\"\n",
    "\n",
    "print(text.upper())\n",
    "print(text.lower())\n",
    "print(text.title())"
   ]
  },
  {
   "cell_type": "code",
   "execution_count": null,
   "id": "2e7392c9",
   "metadata": {},
   "outputs": [],
   "source": [
    "age = 27\n",
    "name = \"Anmol Gurung\"\n",
    "print()"
   ]
  },
  {
   "cell_type": "code",
   "execution_count": 18,
   "id": "a259138f",
   "metadata": {},
   "outputs": [
    {
     "name": "stdout",
     "output_type": "stream",
     "text": [
      "-1\n"
     ]
    }
   ],
   "source": [
    "text = \"  Hello, World!  \"\n",
    "print(text.find(\"    Hello,\"))\n"
   ]
  },
  {
   "cell_type": "code",
   "execution_count": 1,
   "id": "cefb69d3",
   "metadata": {},
   "outputs": [
    {
     "name": "stdout",
     "output_type": "stream",
     "text": [
      "25C = 77.0F\n",
      "25C = $298K\n"
     ]
    }
   ],
   "source": [
    "celsius = 25\n",
    "fahrenheit = (celsius * 9/5) + 32\n",
    "kelvin = celsius + 273\n",
    "\n",
    "print(f\"{celsius}C = {fahrenheit}F\")\n",
    "\n",
    "print(f\"{celsius}C = ${kelvin}K\")\n"
   ]
  },
  {
   "cell_type": "code",
   "execution_count": 3,
   "id": "51965db8",
   "metadata": {},
   "outputs": [
    {
     "name": "stdout",
     "output_type": "stream",
     "text": [
      "First Name: Anmol Doe\n",
      "Username: anmolgurung1@gmail.com\n",
      "Hello, Anmol Doe: Your email is anmolgurung1@gmail.com\n"
     ]
    }
   ],
   "source": [
    "first_name = \"anmol\"\n",
    "last_name = \"doe\"\n",
    "email = \"anmolgurung1@gmail.com\"\n",
    "\n",
    "full_name = first_name.title() + \" \" + last_name.title()\n",
    "\n",
    "user_name = email.lower()\n",
    "\n",
    "print(f\"First Name: {full_name}\")\n",
    "print(f\"Username: {user_name}\")\n",
    "\n",
    "greeting  = f\"Hello, {full_name}: Your email is {email}\"\n",
    "print(greeting)"
   ]
  },
  {
   "cell_type": "code",
   "execution_count": 4,
   "id": "75b11361",
   "metadata": {},
   "outputs": [
    {
     "name": "stdout",
     "output_type": "stream",
     "text": [
      "10 + 3.5 = 13.5\n",
      "10 * 3.5 = 35.0\n",
      "10 / 3.5 = 2.857142857142857\n"
     ]
    }
   ],
   "source": [
    "num1 = 10\n",
    "num2 = 3.5\n",
    "result1 = num1 + num2\n",
    "result2 = num1 * num2\n",
    "result3 = num1 / num2\n",
    "print(f\"{num1} + {num2} = {result1}\")\n",
    "print(f\"{num1} * {num2} = {result2}\")\n",
    "print(f\"{num1} / {num2} = {result3}\")"
   ]
  },
  {
   "cell_type": "code",
   "execution_count": 14,
   "id": "148f07a6",
   "metadata": {},
   "outputs": [
    {
     "name": "stdout",
     "output_type": "stream",
     "text": [
      "3.966666666666667\n"
     ]
    }
   ],
   "source": [
    "a = 11.9\n",
    "b = 3\n",
    "print(a/b)"
   ]
  },
  {
   "cell_type": "code",
   "execution_count": 16,
   "id": "fe22bee3",
   "metadata": {},
   "outputs": [
    {
     "data": {
      "text/plain": [
       "33"
      ]
     },
     "execution_count": 16,
     "metadata": {},
     "output_type": "execute_result"
    }
   ],
   "source": [
    "2**3+ 5**2"
   ]
  },
  {
   "cell_type": "code",
   "execution_count": null,
   "id": "3c1ee3b0",
   "metadata": {},
   "outputs": [],
   "source": []
  },
  {
   "cell_type": "code",
   "execution_count": null,
   "id": "c0d8c317",
   "metadata": {},
   "outputs": [
    {
     "data": {
      "text/plain": [
       "160.0"
      ]
     },
     "execution_count": 17,
     "metadata": {},
     "output_type": "execute_result"
    }
   ],
   "source": [
    "15*2/3*4**2\n",
    "15*2/3*16"
   ]
  },
  {
   "cell_type": "code",
   "execution_count": 23,
   "id": "6b69b573",
   "metadata": {},
   "outputs": [
    {
     "data": {
      "text/plain": [
       "2"
      ]
     },
     "execution_count": 23,
     "metadata": {},
     "output_type": "execute_result"
    }
   ],
   "source": [
    "5 // 2"
   ]
  },
  {
   "cell_type": "code",
   "execution_count": 26,
   "id": "0898a356",
   "metadata": {},
   "outputs": [
    {
     "name": "stdout",
     "output_type": "stream",
     "text": [
      "3\n"
     ]
    }
   ],
   "source": [
    "x = 5 \n",
    "x -= 2\n",
    "print(x)"
   ]
  },
  {
   "cell_type": "code",
   "execution_count": 1,
   "id": "fd1a5df7",
   "metadata": {},
   "outputs": [
    {
     "name": "stdout",
     "output_type": "stream",
     "text": [
      "password: MyPassword123\n",
      "Length >= 8: True\n",
      "Has uppercase: True\n",
      "Has lowercase: True\n",
      "Has digit: True\n",
      "Password is valid: True\n"
     ]
    }
   ],
   "source": [
    "password = \"MyPassword123\"\n",
    "\n",
    "min_length = 8\n",
    "has_uppercase = any(char.isupper() for char in password)\n",
    "has_lowercase = any(char.islower() for char in password)\n",
    "has_digit = any(char.isdigit() for char in password)\n",
    "is_valid = len(password) >= min_length and has_uppercase and has_lowercase and has_digit\n",
    "\n",
    "print(f\"password: {password}\")\n",
    "print(f\"Length >= {min_length}: {len(password) >= min_length}\")\n",
    "\n",
    "print(f\"Has uppercase: {has_uppercase}\")\n",
    "print(f\"Has lowercase: {has_lowercase}\")\n",
    "print(f\"Has digit: {has_digit}\")\n",
    "print(f\"Password is valid: {is_valid}\")"
   ]
  },
  {
   "cell_type": "code",
   "execution_count": 2,
   "id": "e05e88e3",
   "metadata": {},
   "outputs": [
    {
     "name": "stdout",
     "output_type": "stream",
     "text": [
      "Current temperature: 75\n",
      "Temperature range: 65F -  80F\n",
      "Is it cold: False\n",
      "Is it hot: False\n",
      "Is it comfortable?: True\n"
     ]
    }
   ],
   "source": [
    "current_temp = 75\n",
    "min_temp = 65\n",
    "max_temp = 80\n",
    "is_cold = current_temp < 65\n",
    "is_hot = current_temp > 80\n",
    "is_comfortable = not is_cold and not is_hot\n",
    "print(f\"Current temperature: {current_temp}\")\n",
    "\n",
    "print(f\"Temperature range: {min_temp}F -  {max_temp}F\")\n",
    "print(f\"Is it cold: {is_cold}\")\n",
    "print(f\"Is it hot: {is_hot}\")\n",
    "print(f\"Is it comfortable?: {is_comfortable}\")"
   ]
  },
  {
   "cell_type": "code",
   "execution_count": null,
   "id": "8c1e8430",
   "metadata": {},
   "outputs": [],
   "source": []
  }
 ],
 "metadata": {
  "kernelspec": {
   "display_name": "Python 3",
   "language": "python",
   "name": "python3"
  },
  "language_info": {
   "codemirror_mode": {
    "name": "ipython",
    "version": 3
   },
   "file_extension": ".py",
   "mimetype": "text/x-python",
   "name": "python",
   "nbconvert_exporter": "python",
   "pygments_lexer": "ipython3",
   "version": "3.12.0"
  }
 },
 "nbformat": 4,
 "nbformat_minor": 5
}
