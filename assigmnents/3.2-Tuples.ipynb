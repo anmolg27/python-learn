{
 "cells": [
  {
   "cell_type": "code",
   "execution_count": 20,
   "id": "b5d1e9fb",
   "metadata": {},
   "outputs": [
    {
     "name": "stdout",
     "output_type": "stream",
     "text": [
      "(1, 2, 3, 4, 5, 6, 7, 8, 9, 10)\n"
     ]
    }
   ],
   "source": [
    "tple = tuple(x for x in range(1,11))\n",
    "print(tple)\n"
   ]
  },
  {
   "cell_type": "code",
   "execution_count": 22,
   "id": "a8800d3d",
   "metadata": {},
   "outputs": [
    {
     "name": "stdout",
     "output_type": "stream",
     "text": [
      "First Element: 1 \n",
      "Last Element: 10 \n",
      "Middle Element(s): (5, 6)\n"
     ]
    }
   ],
   "source": [
    "first_element = tple[0]\n",
    "last_element = tple[-1]\n",
    "\n",
    "middle_element = tple[len(tple) // 2 - 1 : len(tple) // 2 + 1] if len(tple) % 2 == 0 else tple[len(tple) // 2]\n",
    "\n",
    "print(f\"First Element: {first_element} \\nLast Element: {last_element} \\nMiddle Element(s): {middle_element}\")\n"
   ]
  },
  {
   "cell_type": "code",
   "execution_count": 32,
   "id": "df4d9474",
   "metadata": {},
   "outputs": [
    {
     "name": "stdout",
     "output_type": "stream",
     "text": [
      "First three elements: (1, 2, 3)\n",
      "Last three elements: (8, 9, 10)\n",
      "Elements from index 2 to 4: (3, 4, 5, 6)\n"
     ]
    }
   ],
   "source": [
    "tple = tuple(x for x in range(1,11))\n",
    "\n",
    "print(f\"First three elements: {tple[:3]}\")\n",
    "print(f\"Last three elements: {tple[-3:]}\")\n",
    "print(f\"Elements from index 2 to 4: {tple[2:6]}\")"
   ]
  },
  {
   "cell_type": "code",
   "execution_count": 39,
   "id": "3930bdb8",
   "metadata": {},
   "outputs": [
    {
     "name": "stdout",
     "output_type": "stream",
     "text": [
      "((6, 2, 8), (7, 2, 9), (5, 10, 5))\n",
      "(6, 2, 8)\n",
      "(7, 2, 9)\n",
      "(5, 10, 5)\n"
     ]
    }
   ],
   "source": [
    "import random\n",
    "\n",
    "\n",
    "nested_tuple = tuple(tuple(random.randint(1,10) for _ in range(3)) for _ in range(3))\n",
    "print(nested_tuple)\n",
    "for row in nested_tuple:\n",
    "    print(row)"
   ]
  },
  {
   "cell_type": "code",
   "execution_count": 41,
   "id": "e259c5f3",
   "metadata": {},
   "outputs": [
    {
     "name": "stdout",
     "output_type": "stream",
     "text": [
      "(1, 2, 3, 4, 5, 6)\n"
     ]
    }
   ],
   "source": [
    "tuple1 = 1,2,3\n",
    "tuple2 = 4,5,6\n",
    "\n",
    "concatenated_tuple = tuple1 + tuple2 \n",
    "print(concatenated_tuple)"
   ]
  },
  {
   "cell_type": "code",
   "execution_count": 44,
   "id": "4abd6cdd",
   "metadata": {},
   "outputs": [
    {
     "name": "stdout",
     "output_type": "stream",
     "text": [
      "Tuple is: (1, 3, 3, 2, 2, 2, 4, 2, 1, 3)\n",
      "4\n"
     ]
    }
   ],
   "source": [
    "tple = tuple(random.randint(1, 4) for _ in range(10))\n",
    "print(f\"Tuple is: {tple}\")\n",
    "print(tple.count(2))"
   ]
  },
  {
   "cell_type": "code",
   "execution_count": null,
   "id": "9ea81c85",
   "metadata": {},
   "outputs": [
    {
     "name": "stdout",
     "output_type": "stream",
     "text": [
      "1 2 3 4 5\n"
     ]
    }
   ],
   "source": [
    "tple = 1, 2, 3, 4, 5\n",
    "var1, var2, var3, var4, var5 = tple\n",
    "print(var1, var2, var3, var4, var5)"
   ]
  },
  {
   "cell_type": "code",
   "execution_count": 49,
   "id": "9ba292a1",
   "metadata": {},
   "outputs": [
    {
     "name": "stdout",
     "output_type": "stream",
     "text": [
      "(4, 5, 2, 7, 7)\n"
     ]
    }
   ],
   "source": [
    "lst = [random.randint(1,10) for _ in range(10)]\n",
    "tple = tuple(lst[:5])\n",
    "print(tple)"
   ]
  },
  {
   "cell_type": "code",
   "execution_count": 52,
   "id": "5900c88d",
   "metadata": {},
   "outputs": [
    {
     "name": "stdout",
     "output_type": "stream",
     "text": [
      "(2, 10, 3)\n",
      "(6, 1, 5)\n",
      "(10, 6, 2)\n"
     ]
    }
   ],
   "source": [
    "tple = tuple(tuple(random.randint(1,10) for _ in range(3)) for _ in range(3))\n",
    "\n",
    "for row in tple:\n",
    "    print(row)"
   ]
  },
  {
   "cell_type": "code",
   "execution_count": 58,
   "id": "ef52f73e",
   "metadata": {},
   "outputs": [
    {
     "name": "stdout",
     "output_type": "stream",
     "text": [
      "[1, 2, 3, 4, 5, 6]\n",
      "(1, 2, 3, 4, 5, 6)\n"
     ]
    }
   ],
   "source": [
    "tple = tuple(x for x in range(1,6))\n",
    "lst = list(tple)\n",
    "lst.append(6)\n",
    "print(lst)\n",
    "\n",
    "tple = tuple(lst)\n",
    "print(tple)\n"
   ]
  },
  {
   "cell_type": "code",
   "execution_count": 61,
   "id": "bee1e10c",
   "metadata": {},
   "outputs": [
    {
     "name": "stdout",
     "output_type": "stream",
     "text": [
      "anmol\n"
     ]
    }
   ],
   "source": [
    "tple = 'a','n','m','o','l'\n",
    "\n",
    "joined_string= ''.join(tple)\n",
    "print(joined_string)   "
   ]
  },
  {
   "cell_type": "code",
   "execution_count": 66,
   "id": "b1ea81e4",
   "metadata": {},
   "outputs": [
    {
     "name": "stdout",
     "output_type": "stream",
     "text": [
      "{(1, 2, 3): 1, (4, 5, 6): 2}\n"
     ]
    }
   ],
   "source": [
    "dict = {(1,2,3): 1, (4,5,6): 2}\n",
    "print(dict)"
   ]
  },
  {
   "cell_type": "code",
   "execution_count": 68,
   "id": "dd8dc12a",
   "metadata": {},
   "outputs": [
    {
     "name": "stdout",
     "output_type": "stream",
     "text": [
      "((7, 5, 10), (2, 9, 5), (9, 3, 3))\n",
      "7\n",
      "5\n",
      "10\n",
      "2\n",
      "9\n",
      "5\n",
      "9\n",
      "3\n",
      "3\n"
     ]
    }
   ],
   "source": [
    "nested_tuple = tuple(tuple(random.randint(1, 10) for _ in range(3)) for _ in range(3))\n",
    "\n",
    "print(nested_tuple)\n",
    "for row in nested_tuple:\n",
    "    for item in row:\n",
    "        print(item)"
   ]
  },
  {
   "cell_type": "code",
   "execution_count": 69,
   "id": "21bc5e19",
   "metadata": {},
   "outputs": [
    {
     "name": "stdout",
     "output_type": "stream",
     "text": [
      "{1, 2, 3, 4, 5}\n"
     ]
    }
   ],
   "source": [
    "tple = (1,2,3,1,4,2,3,5)\n",
    "st = set(tple)\n",
    "print(st)"
   ]
  },
  {
   "cell_type": "code",
   "execution_count": null,
   "id": "5a30ae84",
   "metadata": {},
   "outputs": [
    {
     "name": "stdout",
     "output_type": "stream",
     "text": [
      "{'minimum': 1, 'maximum': 100, 'sum': 220}\n"
     ]
    }
   ],
   "source": [
    "def tuple_function(tpl):\n",
    "    minimum = tpl[0]\n",
    "    maximum = tpl[0]\n",
    "    sum = tpl[0]\n",
    "    for item in tpl[1:]:\n",
    "        if(minimum > item):\n",
    "            minimum = item\n",
    "        if maximum < item:\n",
    "            maximum = item\n",
    "\n",
    "        sum += item\n",
    "    return {'minimum': minimum, 'maximum': maximum, 'sum': sum}    \n",
    "\n",
    "\n",
    "tpl1 = (6,5,3,6,3,1,32,5,9,100,45,5)\n",
    "\n",
    "result = tuple_function(tpl1)\n",
    "print(result)"
   ]
  },
  {
   "cell_type": "code",
   "execution_count": null,
   "id": "17de6d46",
   "metadata": {},
   "outputs": [],
   "source": []
  }
 ],
 "metadata": {
  "kernelspec": {
   "display_name": "Python 3",
   "language": "python",
   "name": "python3"
  },
  "language_info": {
   "codemirror_mode": {
    "name": "ipython",
    "version": 3
   },
   "file_extension": ".py",
   "mimetype": "text/x-python",
   "name": "python",
   "nbconvert_exporter": "python",
   "pygments_lexer": "ipython3",
   "version": "3.12.0"
  }
 },
 "nbformat": 4,
 "nbformat_minor": 5
}
