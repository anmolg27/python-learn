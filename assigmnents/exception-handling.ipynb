{
 "cells": [
  {
   "cell_type": "code",
   "execution_count": 1,
   "id": "4a975c1e",
   "metadata": {},
   "outputs": [],
   "source": [
    "def divide(a,b):\n",
    "    try:\n",
    "        result = a/b\n",
    "    except ZeroDivisionError as e:\n",
    "        print(f\"Error: {e}\")\n",
    "    finally:\n",
    "        print(\"Exception complete\")\n",
    "    return result\n",
    "            \n"
   ]
  },
  {
   "cell_type": "code",
   "execution_count": 3,
   "id": "2934e8c2",
   "metadata": {},
   "outputs": [],
   "source": [
    "def read_file(filename):\n",
    "    try:\n",
    "        file = open(filename,'r')\n",
    "        content =file.read()\n",
    "        return content\n",
    "    except FileNotFoundError as e:\n",
    "        print(f\"Error: {e}\")\n",
    "    finally:\n",
    "        try:\n",
    "            file.close()\n",
    "        except NameError:\n",
    "            pass            "
   ]
  },
  {
   "cell_type": "code",
   "execution_count": 4,
   "id": "56699f20",
   "metadata": {},
   "outputs": [],
   "source": [
    "def sum_list(lst):\n",
    "    total = 0\n",
    "    try:\n",
    "        for item in lst:\n",
    "            total += item\n",
    "    except TypeError as e:\n",
    "        print(f\"Error: {e}\")\n",
    "        total = None\n",
    "    finally:\n",
    "        print(f\"Execution complete.\")\n",
    "    return total\n",
    "            "
   ]
  },
  {
   "cell_type": "code",
   "execution_count": 5,
   "id": "6384ed12",
   "metadata": {},
   "outputs": [],
   "source": [
    "def get_integer():\n",
    "    try:\n",
    "        value = int(input(\"Enter an integer: \"))\n",
    "    except ValueError as e:\n",
    "        print(f\"Error: {e}\")\n",
    "        value = None\n",
    "    finally:\n",
    "        print(\"Execution complete.\")\n",
    "    return value            "
   ]
  },
  {
   "cell_type": "code",
   "execution_count": 6,
   "id": "23cfafd3",
   "metadata": {},
   "outputs": [],
   "source": [
    "def get_dict_value(d, key):\n",
    "    try:\n",
    "        value = d[key]\n",
    "    except KeyError as e:\n",
    "        print (f\"Error: {e}\")\n",
    "        value = None\n",
    "    finally:\n",
    "        print(f\"Execution complete.\")\n",
    "    return value            "
   ]
  },
  {
   "cell_type": "code",
   "execution_count": 8,
   "id": "f0680aeb",
   "metadata": {},
   "outputs": [
    {
     "name": "stdout",
     "output_type": "stream",
     "text": [
      "Conversion attempt complete.\n",
      "Division error: division by zero\n",
      "Division attempt complete.\n",
      "Overall execution complete\n",
      "None\n"
     ]
    }
   ],
   "source": [
    "def nested_exception_handling(s):\n",
    "    try:\n",
    "        try:\n",
    "            num = int(s)\n",
    "        except ValueError as e:\n",
    "            print(f\"Conversion error: {e}\")\n",
    "            num = None\n",
    "        finally:\n",
    "            print(\"Conversion attempt complete.\")\n",
    "        if num is not None:\n",
    "            try:\n",
    "                result = 10/ num\n",
    "            except ZeroDivisionError as e:\n",
    "                print(f\"Division error: {e}\")\n",
    "                result = None\n",
    "            finally:\n",
    "                print(\"Division attempt complete.\")\n",
    "            return result\n",
    "    finally:\n",
    "        print(\"Overall execution complete\")\n",
    "\n",
    "\n",
    "print(nested_exception_handling('0'))                                        "
   ]
  },
  {
   "cell_type": "code",
   "execution_count": 9,
   "id": "037cf3de",
   "metadata": {},
   "outputs": [],
   "source": [
    "def get_list_element(lst, index):\n",
    "    try:\n",
    "        element = lst[index]\n",
    "    except IndexError as e:\n",
    "        print(f\"Error: {e}\")\n",
    "        element = None\n",
    "    finally:\n",
    "        print(\"Exection complete\")\n",
    "    return element\n",
    "                "
   ]
  },
  {
   "cell_type": "code",
   "execution_count": 11,
   "id": "3daaaf56",
   "metadata": {},
   "outputs": [],
   "source": [
    "import requests\n",
    "\n",
    "def read_url(url):\n",
    "    try:\n",
    "        response = requests.get(url)\n",
    "        response.raise_for_status()\n",
    "        return response.text\n",
    "    except requests.RequestException as e:\n",
    "        print(f\"Network error: {e}\")\n",
    "        return None\n",
    "    finally:\n",
    "        print(\"Exection complete\") \n",
    "\n",
    "\n",
    "        \n",
    "           "
   ]
  },
  {
   "cell_type": "code",
   "execution_count": 12,
   "id": "4cee4015",
   "metadata": {},
   "outputs": [],
   "source": [
    "import json\n",
    "\n",
    "def parse_json(json_string):\n",
    "    try:\n",
    "        data = json.loads(json_string)\n",
    "        return data\n",
    "    except json.JSONDecodeError as e:\n",
    "        print(f\"JSON error: {e}\")\n",
    "        return None\n",
    "    finally:\n",
    "        print(\"Execution complete\")\n",
    "        \n",
    "                "
   ]
  },
  {
   "cell_type": "code",
   "execution_count": 14,
   "id": "0ea511c8",
   "metadata": {},
   "outputs": [],
   "source": [
    "class NegativeNumberError(Exception):\n",
    "    pass\n",
    "\n",
    "def check_for_negatives(lst):\n",
    "    try:\n",
    "        for num in lst:\n",
    "            if num < 0:\n",
    "                raise NegativeNumberError(f\"Negative number found: {num}\")\n",
    "\n",
    "    except NegativeNumberError as e:\n",
    "        print(f\"Error: {e}\")\n",
    "    finally:\n",
    "        print('Execution complete')                "
   ]
  },
  {
   "cell_type": "code",
   "execution_count": 15,
   "id": "e7ced030",
   "metadata": {},
   "outputs": [],
   "source": [
    "def risky_function():\n",
    "    raise ValueError(\"An error occurred in risky_function.\")\n",
    "\n",
    "def safe_functio():\n",
    "    try:\n",
    "        risky_function()\n",
    "    except ValueError as e:\n",
    "        print(f\"Error: {e}\")\n",
    "    finally:\n",
    "        print(\"Execution complete.\")\n",
    "                    "
   ]
  },
  {
   "cell_type": "code",
   "execution_count": 18,
   "id": "ae6d1287",
   "metadata": {},
   "outputs": [
    {
     "name": "stdout",
     "output_type": "stream",
     "text": [
      "Execution complete.\n",
      "1.3333333333333333\n",
      "Error: division by zero\n",
      "Execution complete.\n",
      "None\n"
     ]
    }
   ],
   "source": [
    "class Calculator:\n",
    "    def divide(selv, a, b):\n",
    "        try:\n",
    "            result = a / b\n",
    "        except ZeroDivisionError as e:\n",
    "            print(f\"Error: {e}\")\n",
    "            result = None\n",
    "        finally:\n",
    "            print(\"Execution complete.\")\n",
    "        return result\n",
    "\n",
    "\n",
    "calc = Calculator()\n",
    "\n",
    "print(calc.divide(12, 9))\n",
    "print(calc.divide(10, 0))\n"
   ]
  },
  {
   "cell_type": "code",
   "execution_count": 19,
   "id": "c866a1f5",
   "metadata": {},
   "outputs": [],
   "source": [
    "def convert_to_integers(lst):\n",
    "    integers = []\n",
    "    try:\n",
    "        for item in lst:\n",
    "            integers.append(int(item))\n",
    "    except ValueError as e:\n",
    "        print(f\"Error: {e}\")\n",
    "        integers = None\n",
    "    finally:\n",
    "        print(\"Execution complete\")\n",
    "    return integers\n",
    "        \n",
    "\n"
   ]
  },
  {
   "cell_type": "code",
   "execution_count": 20,
   "id": "af8eabe6",
   "metadata": {},
   "outputs": [],
   "source": [
    "def convert_with_comprehension(lst):\n",
    "    try:\n",
    "        integers = [int(item) for item in lst]\n",
    "    except ValueError as e:\n",
    "        print(f\"Error: {e}\") \n",
    "        integers = None\n",
    "    finally:\n",
    "        print(\"Execution complete\")\n",
    "    return integers           "
   ]
  },
  {
   "cell_type": "code",
   "execution_count": null,
   "id": "3b2502a2",
   "metadata": {},
   "outputs": [],
   "source": [
    "def write_strings_to_file(strings, filename):\n",
    "    try:\n",
    "        file = open(filename, \"w\")\n",
    "        for string in strings:\n",
    "            file.write(string + \"\\n\")\n",
    "    except IOError as e:\n",
    "        print(f\"Error: {e}\")\n",
    "    finally:\n",
    "        try:\n",
    "            file.close()\n",
    "        except NameError:\n",
    "            pass"
   ]
  }
 ],
 "metadata": {
  "kernelspec": {
   "display_name": "Python 3",
   "language": "python",
   "name": "python3"
  },
  "language_info": {
   "codemirror_mode": {
    "name": "ipython",
    "version": 3
   },
   "file_extension": ".py",
   "mimetype": "text/x-python",
   "name": "python",
   "nbconvert_exporter": "python",
   "pygments_lexer": "ipython3",
   "version": "3.12.0"
  }
 },
 "nbformat": 4,
 "nbformat_minor": 5
}
