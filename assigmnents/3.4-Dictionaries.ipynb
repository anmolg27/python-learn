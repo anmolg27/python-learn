{
 "cells": [
  {
   "cell_type": "code",
   "execution_count": 2,
   "id": "d0f366b4",
   "metadata": {},
   "outputs": [
    {
     "name": "stdout",
     "output_type": "stream",
     "text": [
      "{1: 1, 2: 4, 3: 9, 4: 16, 5: 25, 6: 36, 7: 49, 8: 64, 9: 81, 10: 100}\n"
     ]
    }
   ],
   "source": [
    "nums = {x: x**2 for x in range(1, 11)}\n",
    "print(nums)"
   ]
  },
  {
   "cell_type": "code",
   "execution_count": 4,
   "id": "49360cf6",
   "metadata": {},
   "outputs": [
    {
     "name": "stdout",
     "output_type": "stream",
     "text": [
      "25\n",
      "dict_keys([1, 2, 3, 4, 5, 6, 7, 8, 9, 10])\n"
     ]
    }
   ],
   "source": [
    "print(nums.get(5))\n",
    "print(nums.keys())"
   ]
  },
  {
   "cell_type": "code",
   "execution_count": 6,
   "id": "9440afa3",
   "metadata": {},
   "outputs": [
    {
     "name": "stdout",
     "output_type": "stream",
     "text": [
      "{1: 1, 2: 4, 3: 9, 4: 16, 5: 25, 6: 36, 7: 49, 8: 64, 9: 81, 10: 100, 11: 121}\n"
     ]
    }
   ],
   "source": [
    "nums[11] =  11**2\n",
    "print(nums)"
   ]
  },
  {
   "cell_type": "code",
   "execution_count": 8,
   "id": "f48221bc",
   "metadata": {},
   "outputs": [
    {
     "name": "stdout",
     "output_type": "stream",
     "text": [
      "1: 1\n",
      "2: 4\n",
      "3: 9\n",
      "4: 16\n",
      "5: 25\n",
      "6: 36\n",
      "7: 49\n",
      "8: 64\n",
      "9: 81\n",
      "10: 100\n",
      "11: 121\n"
     ]
    }
   ],
   "source": [
    "for key, value in nums.items():\n",
    "    print(f\"{key}: {value}\")"
   ]
  },
  {
   "cell_type": "code",
   "execution_count": 9,
   "id": "9f071377",
   "metadata": {},
   "outputs": [
    {
     "name": "stdout",
     "output_type": "stream",
     "text": [
      "{1: 1, 2: 8, 3: 27, 4: 64, 5: 125, 6: 216, 7: 343, 8: 512, 9: 729, 10: 1000}\n"
     ]
    }
   ],
   "source": [
    "cubes = {x: x**3 for x in range(1,11)}\n",
    "print(cubes)"
   ]
  },
  {
   "cell_type": "code",
   "execution_count": 10,
   "id": "c65612b4",
   "metadata": {},
   "outputs": [
    {
     "name": "stdout",
     "output_type": "stream",
     "text": [
      "{'name': 'Anmol', 'age': 28, 'occupation': 'Software Engineer', 'experience': '4.5 years'}\n"
     ]
    }
   ],
   "source": [
    "dict_1 = {\"name\": \"Anmol\", \"age\": 28}\n",
    "dict_2 = {\"occupation\": \"Software Engineer\", \"experience\": \"4.5 years\"}\n",
    "\n",
    "merged_dict = {**dict_1, **dict_2}\n",
    "print(merged_dict)"
   ]
  },
  {
   "cell_type": "code",
   "execution_count": 11,
   "id": "366fcbc9",
   "metadata": {},
   "outputs": [
    {
     "name": "stdout",
     "output_type": "stream",
     "text": [
      "{'name': 'Anmol', 'age': 28, 'grades': {'math': 'A', 'science': 'B', 'english': 'A'}}\n"
     ]
    }
   ],
   "source": [
    "student = {\n",
    "    \"name\": \"Anmol\",\n",
    "    \"age\": 28,\n",
    "    \"grades\": {\"math\": \"A\", \"science\": \"B\", \"english\": \"A\"},\n",
    "}\n",
    "print(student)"
   ]
  },
  {
   "cell_type": "code",
   "execution_count": 12,
   "id": "0fafc036",
   "metadata": {},
   "outputs": [
    {
     "name": "stdout",
     "output_type": "stream",
     "text": [
      "{1: [1, 2, 3, 4, 5], 2: [2, 4, 6, 8, 10], 3: [3, 6, 9, 12, 15], 4: [4, 8, 12, 16, 20], 5: [5, 10, 15, 20, 25]}\n"
     ]
    }
   ],
   "source": [
    "nums = {x: [y * x for y in range(1, 6)] for x in range(1, 6)}\n",
    "print(nums)"
   ]
  },
  {
   "cell_type": "code",
   "execution_count": 13,
   "id": "9bfc4606",
   "metadata": {},
   "outputs": [
    {
     "name": "stdout",
     "output_type": "stream",
     "text": [
      "{1: (1, 1), 2: (2, 4), 3: (3, 9), 4: (4, 16), 5: (5, 25)}\n"
     ]
    }
   ],
   "source": [
    "dict_1 = {x: (x, x**2) for x in range(1, 6)}\n",
    "print(dict_1)"
   ]
  },
  {
   "cell_type": "code",
   "execution_count": 15,
   "id": "05a106c5",
   "metadata": {},
   "outputs": [
    {
     "name": "stdout",
     "output_type": "stream",
     "text": [
      "[(1, 1), (2, 4), (3, 9), (4, 16), (5, 25)]\n"
     ]
    }
   ],
   "source": [
    "dict_1 = {x: x**2 for x in range(1,6)}\n",
    "lst = list(dict_1.items())\n",
    "print(lst)"
   ]
  },
  {
   "cell_type": "code",
   "execution_count": 16,
   "id": "25ab84e9",
   "metadata": {},
   "outputs": [
    {
     "name": "stdout",
     "output_type": "stream",
     "text": [
      "{2: 4, 4: 16, 6: 36, 8: 64, 10: 100}\n"
     ]
    }
   ],
   "source": [
    "dict_1 = {x: x**2 for x in range(1, 11)}\n",
    "dict_2 = {key: value for key, value in dict_1.items() if key % 2 == 0}\n",
    "print(dict_2)"
   ]
  },
  {
   "cell_type": "code",
   "execution_count": 17,
   "id": "90e14f42",
   "metadata": {},
   "outputs": [
    {
     "name": "stdout",
     "output_type": "stream",
     "text": [
      "{1: 1, 4: 2, 9: 3, 16: 4, 25: 5}\n"
     ]
    }
   ],
   "source": [
    "dict_1 = { x: x**2 for x in range(1,6)}\n",
    "dict_2 = {value: key for key,value in dict_1.items()}\n",
    "print(dict_2)"
   ]
  },
  {
   "cell_type": "code",
   "execution_count": 21,
   "id": "88d84a1f",
   "metadata": {},
   "outputs": [
    {
     "name": "stdout",
     "output_type": "stream",
     "text": [
      "{'list1': [], 'list2': [], 'list3': [], 'list4': [], 'list5': []}\n",
      "{'list1': [1], 'list2': [2], 'list3': [], 'list4': [], 'list5': []}\n"
     ]
    }
   ],
   "source": [
    "dict_1 = {f\"list{x}\": [] for x in range(1,6)}\n",
    "print(dict_1)\n",
    "dict_1['list1'].append(1)\n",
    "dict_1['list2'].append(2)\n",
    "\n",
    "print(dict_1)"
   ]
  },
  {
   "cell_type": "code",
   "execution_count": 32,
   "id": "08763a0c",
   "metadata": {},
   "outputs": [
    {
     "name": "stdout",
     "output_type": "stream",
     "text": [
      "{'h': 2, 'e': 2, 'l': 3, 'o': 4, ' ': 4, 'w': 2, 'r': 2, 'd': 1, 'a': 1, 'y': 1, 'u': 1}\n"
     ]
    }
   ],
   "source": [
    "def count_character(str):\n",
    "    lst = list(str)\n",
    "    counts = {}\n",
    "    for item in lst:\n",
    "        counts[item] = counts.get(item,0) + 1\n",
    "    return counts\n",
    "\n",
    "my_string = \"hello world how are you\"\n",
    "\n",
    "result = count_character(my_string)\n",
    "print(result)"
   ]
  },
  {
   "cell_type": "code",
   "execution_count": 35,
   "id": "e881562e",
   "metadata": {},
   "outputs": [
    {
     "name": "stdout",
     "output_type": "stream",
     "text": [
      "{\"title\": \"author\", \"author\": \"Anmol\", \"year\": 2025, \"genre\": \"music\"}\n"
     ]
    }
   ],
   "source": [
    "import json\n",
    "\n",
    "\n",
    "book = {\n",
    "    \"title\": \"author\",\n",
    "    \"author\": \"Anmol\",\n",
    "    \"year\": 2025,\n",
    "    \"genre\": \"music\"\n",
    "}\n",
    "\n",
    "a = json.dumps(book)\n",
    "print(a)"
   ]
  },
  {
   "cell_type": "code",
   "execution_count": null,
   "id": "d62209f4",
   "metadata": {},
   "outputs": [],
   "source": []
  }
 ],
 "metadata": {
  "kernelspec": {
   "display_name": "Python 3",
   "language": "python",
   "name": "python3"
  },
  "language_info": {
   "codemirror_mode": {
    "name": "ipython",
    "version": 3
   },
   "file_extension": ".py",
   "mimetype": "text/x-python",
   "name": "python",
   "nbconvert_exporter": "python",
   "pygments_lexer": "ipython3",
   "version": "3.12.0"
  }
 },
 "nbformat": 4,
 "nbformat_minor": 5
}
