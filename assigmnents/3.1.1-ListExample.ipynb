{
 "cells": [
  {
   "cell_type": "code",
   "execution_count": 2,
   "id": "79f24166",
   "metadata": {},
   "outputs": [
    {
     "name": "stdout",
     "output_type": "stream",
     "text": [
      "Don't forget to pay to utility bills\n",
      "To do list remaining\n",
      "- Buy Groceries\n",
      "- Pay bills\n",
      "- Schedule meeting\n",
      "- Go for a run\n"
     ]
    }
   ],
   "source": [
    "# Example 1: Manage a To Do List\n",
    "\n",
    "to_do_list = [\"Buy Groceries\", \"Clean the house\", \"Pay bills\"]\n",
    "\n",
    "# Adding a task\n",
    "to_do_list.append(\"Schedule meeting\")\n",
    "to_do_list.append(\"Go for a run\")\n",
    "\n",
    "# Removing a completed task\n",
    "to_do_list.remove('Clean the house')\n",
    "\n",
    "# Checking if a task is in the list\n",
    "if \"Pay bills\" in to_do_list:\n",
    "    print(\"Don't forget to pay to utility bills\")\n",
    "\n",
    "print(\"To do list remaining\")\n",
    "for task in to_do_list:\n",
    "    print(f\"- {task}\")    "
   ]
  },
  {
   "cell_type": "code",
   "execution_count": 4,
   "id": "307aca13",
   "metadata": {},
   "outputs": [
    {
     "name": "stdout",
     "output_type": "stream",
     "text": [
      "Average Grade: 88.00\n"
     ]
    }
   ],
   "source": [
    "# Example 2: Organizing student grades\n",
    "grades = [85,92,78,90,88]\n",
    "\n",
    "# Adding a new grade\n",
    "grades.append(95)\n",
    "\n",
    "\n",
    "average_grade = sum(grades) / len(grades)\n",
    "print(f\"Average Grade: {average_grade:.2f}\")"
   ]
  },
  {
   "cell_type": "code",
   "execution_count": 5,
   "id": "6a4070e4",
   "metadata": {},
   "outputs": [],
   "source": [
    "# Managing an inventory\n",
    "\n",
    "inventory = [\"apples\", \"bananas\", \"oranges\", \"grapes\"]\n",
    "\n",
    "# Adding a new item\n",
    "inventory.append(\"strawberries\")\n",
    "\n",
    "# Removing an item that is out of stock.\n",
    "inventory.remove(\"bananas\")"
   ]
  },
  {
   "cell_type": "code",
   "execution_count": null,
   "id": "ccff270e",
   "metadata": {},
   "outputs": [],
   "source": [
    "# Collecting a user feedback\n",
    "\n",
    "feedback.append('Great service!')"
   ]
  }
 ],
 "metadata": {
  "kernelspec": {
   "display_name": "Python 3",
   "language": "python",
   "name": "python3"
  },
  "language_info": {
   "codemirror_mode": {
    "name": "ipython",
    "version": 3
   },
   "file_extension": ".py",
   "mimetype": "text/x-python",
   "name": "python",
   "nbconvert_exporter": "python",
   "pygments_lexer": "ipython3",
   "version": "3.12.0"
  }
 },
 "nbformat": 4,
 "nbformat_minor": 5
}
