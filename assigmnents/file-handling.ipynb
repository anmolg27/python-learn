{
 "cells": [
  {
   "cell_type": "code",
   "execution_count": 20,
   "id": "379f5638",
   "metadata": {},
   "outputs": [],
   "source": [
    "import os\n",
    "\n"
   ]
  },
  {
   "cell_type": "code",
   "execution_count": 21,
   "id": "773b7184",
   "metadata": {},
   "outputs": [],
   "source": [
    "# Assignment 1:\n",
    "\n",
    "def read_file(filename):\n",
    "    with open(filename, 'r') as file:\n",
    "        for line in file:\n",
    "            print(line.strip())\n",
    "\n",
    "read_file('sample.txt')           "
   ]
  },
  {
   "cell_type": "code",
   "execution_count": 22,
   "id": "2b7ecb42",
   "metadata": {},
   "outputs": [],
   "source": [
    "def write_file(lines, filename):\n",
    "    with open(filename, \"w\") as file:\n",
    "        file.writelines(lines)\n",
    "\n",
    "write_file([\"Kaise ho?\\n\", \"Sab badia?\\n\", \"ghabrao mat\\n\"], \"output.txt\")"
   ]
  },
  {
   "cell_type": "code",
   "execution_count": 23,
   "id": "cf3cc009",
   "metadata": {},
   "outputs": [],
   "source": [
    "def copy_file(source, dest):\n",
    "    with open(source,'r') as file:\n",
    "        content = file.read()\n",
    "\n",
    "    with open(dest, 'w') as file:\n",
    "        file.write(content) \n",
    "\n",
    "copy_file('sample.txt','sample1.txt')           "
   ]
  },
  {
   "cell_type": "code",
   "execution_count": 24,
   "id": "bee00e80",
   "metadata": {},
   "outputs": [],
   "source": [
    "def append_to_file(text, filename):\n",
    "    if not os.path.exists(filename):\n",
    "        print(\"file does not exist\")\n",
    "        return\n",
    "    with open(filename,'a') as file:\n",
    "        file.write(text) \n",
    "\n",
    "append_to_file('kuch bhi?', 'sample.txt')           "
   ]
  },
  {
   "cell_type": "code",
   "execution_count": 25,
   "id": "2da3cc50",
   "metadata": {},
   "outputs": [
    {
     "name": "stdout",
     "output_type": "stream",
     "text": [
      "content kuch bhi?\n",
      "<class 'str'>\n",
      "['kuch', 'bhi?']\n",
      "9\n"
     ]
    },
    {
     "data": {
      "text/plain": [
       "9"
      ]
     },
     "execution_count": 25,
     "metadata": {},
     "output_type": "execute_result"
    }
   ],
   "source": [
    "def count_words(filename):\n",
    "    if not os.path.exists(filename):\n",
    "        print(\"file does not exist\")\n",
    "\n",
    "    with open(filename, 'r') as file:\n",
    "        content = file.read()\n",
    "        print('content', content)\n",
    "        print(type(content)) \n",
    "        print(content.split())\n",
    "        print(len(content))\n",
    "        return len(content)\n",
    "\n",
    "count_words('sample.txt')           "
   ]
  },
  {
   "cell_type": "code",
   "execution_count": 30,
   "id": "5f89d9ae",
   "metadata": {},
   "outputs": [],
   "source": [
    "def find_and_replace(filename, old_word, new_word):\n",
    "    with open(filename, 'r') as file:\n",
    "        text = file.read().replace(old_word, new_word)\n",
    "    \n",
    "    with open(filename, 'w') as file:\n",
    "        file.write(text)\n",
    "\n",
    "\n",
    "\n",
    "find_and_replace('sample.txt', 'anmol', 'kuch')        "
   ]
  },
  {
   "cell_type": "code",
   "execution_count": 31,
   "id": "c7068430",
   "metadata": {},
   "outputs": [
    {
     "name": "stdout",
     "output_type": "stream",
     "text": [
      "how are you kuch\n",
      "hello kuch\n",
      "\n"
     ]
    }
   ],
   "source": [
    "def read_reverse(filename):\n",
    "    with open(filename,'r') as file:\n",
    "        lines = file.readlines()[::-1]\n",
    "\n",
    "        for line in lines:\n",
    "            print(line)\n",
    "\n",
    "\n",
    "read_reverse('sample.txt')\n"
   ]
  },
  {
   "cell_type": "code",
   "execution_count": 33,
   "id": "26004d68",
   "metadata": {},
   "outputs": [
    {
     "name": "stdout",
     "output_type": "stream",
     "text": [
      "(2, 6, 27)\n"
     ]
    }
   ],
   "source": [
    "def count_lwd(filename):\n",
    "    with open(filename, 'r') as file:\n",
    "        lines = file.readlines()\n",
    "        words = sum(len(line.split()) for line in lines)\n",
    "        characters = sum(len(line) for line in lines)\n",
    "        return len(lines), words, characters\n",
    "print(count_lwd('sample.txt'))        "
   ]
  },
  {
   "cell_type": "code",
   "execution_count": 34,
   "id": "a58c3a12",
   "metadata": {},
   "outputs": [],
   "source": [
    "def merge_files(file_list, output_file):\n",
    "    with open(output_file, 'w') as outfile:\n",
    "        \n",
    "        for fname in file_list:\n",
    "            with open(fname, 'r') as infile:\n",
    "                outfile.write(infile.read() + '\\n')\n",
    "\n",
    "merge_files(['output.txt', 'sample.txt', 'sample.txt'], 'merged.txt')"
   ]
  },
  {
   "cell_type": "code",
   "execution_count": 35,
   "id": "f6960e40",
   "metadata": {},
   "outputs": [],
   "source": [
    "def split_file(filename, lines_per_file):\n",
    "    with open(filename, 'r') as file:\n",
    "        lines = file.readlines()\n",
    "        for i in range(0, len(lines), lines_per_file):\n",
    "            with open(f'{filename}_part{i//lines_per_file + 1}.txt', 'w') as part_file:\n",
    "                part_file.writelines(lines[i: i + lines_per_file])\n",
    "\n",
    "\n",
    "split_file('large_file.md', 100)\n"
   ]
  },
  {
   "cell_type": "code",
   "execution_count": 36,
   "id": "9c4d3c85",
   "metadata": {},
   "outputs": [],
   "source": [
    "import datetime\n",
    "\n",
    "def log_message(message, filename = 'activity.log'):\n",
    "    timestamp = datetime.datetime.now().isoformat()\n",
    "    with open(filename, 'a') as file:\n",
    "        file.write(f\"[{timestamp}]: {message}\\n\")\n",
    "\n",
    "\n",
    "log_message('hello kaise ho')        "
   ]
  },
  {
   "cell_type": "code",
   "execution_count": 37,
   "id": "6d3349b9",
   "metadata": {},
   "outputs": [],
   "source": [
    "def copy_binary_file(source, destination):\n",
    "    with open(source, 'rb') as src:\n",
    "        with open(destination, 'wb') as dest:\n",
    "            dest.write(src.read())\n",
    "\n",
    "\n",
    "            "
   ]
  },
  {
   "cell_type": "code",
   "execution_count": null,
   "id": "16ebee8d",
   "metadata": {},
   "outputs": [
    {
     "name": "stdout",
     "output_type": "stream",
     "text": [
      "{'Index': '1', 'Customer Id': 'DD37Cf93aecA6Dc', 'First Name': 'Sheryl', 'Last Name': 'Baxter', 'Company': 'Rasmussen Group', 'City': 'East Leonard', 'Country': 'Chile', 'Phone 1': '229.077.5154', 'Phone 2': '397.884.0519x718', 'Email': 'zunigavanessa@smith.info', 'Subscription Date': '2020-08-24', 'Website': 'http://www.stephenson.com/'}\n"
     ]
    }
   ],
   "source": [
    "import csv\n",
    "\n",
    "def read_csv_as_dicts(filename):\n",
    "    with open(filename,'r') as file:\n",
    "        reader = csv.DictReader(file)\n",
    "        return list(reader)\n",
    "\n",
    "\n",
    "print(read_csv_as_dicts('customers-100.csv'))\n"
   ]
  },
  {
   "cell_type": "code",
   "execution_count": 43,
   "id": "7685c2e9",
   "metadata": {},
   "outputs": [],
   "source": [
    "import json\n",
    "\n",
    "def read_json(filename):\n",
    "    with open(filename, 'r') as file:\n",
    "        data = json.load(file)\n",
    "        return data"
   ]
  },
  {
   "cell_type": "code",
   "execution_count": null,
   "id": "bb01cdb9",
   "metadata": {},
   "outputs": [],
   "source": []
  }
 ],
 "metadata": {
  "kernelspec": {
   "display_name": "Python 3",
   "language": "python",
   "name": "python3"
  },
  "language_info": {
   "codemirror_mode": {
    "name": "ipython",
    "version": 3
   },
   "file_extension": ".py",
   "mimetype": "text/x-python",
   "name": "python",
   "nbconvert_exporter": "python",
   "pygments_lexer": "ipython3",
   "version": "3.12.0"
  }
 },
 "nbformat": 4,
 "nbformat_minor": 5
}
