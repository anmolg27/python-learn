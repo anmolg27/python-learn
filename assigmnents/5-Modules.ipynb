{
 "cells": [
  {
   "cell_type": "code",
   "execution_count": 1,
   "id": "3cf08ba5",
   "metadata": {},
   "outputs": [
    {
     "name": "stdout",
     "output_type": "stream",
     "text": [
      "5.0\n",
      "1.0\n"
     ]
    }
   ],
   "source": [
    "# Assignment 1: Importing and Using Modules\n",
    "\n",
    "import math\n",
    "\n",
    "print(math.sqrt(25))\n",
    "print(math.sin(math.radians(90)))"
   ]
  },
  {
   "cell_type": "code",
   "execution_count": 2,
   "id": "ebeb27d3",
   "metadata": {},
   "outputs": [
    {
     "name": "stdout",
     "output_type": "stream",
     "text": [
      "2025-08-26 12:53:02.214621\n"
     ]
    }
   ],
   "source": [
    "import datetime as dt\n",
    "\n",
    "print(dt.datetime.now())"
   ]
  },
  {
   "cell_type": "code",
   "execution_count": 3,
   "id": "bec8b9b1",
   "metadata": {},
   "outputs": [
    {
     "name": "stdout",
     "output_type": "stream",
     "text": [
      "95\n"
     ]
    }
   ],
   "source": [
    "from random import randint\n",
    "print(randint(1,100))"
   ]
  },
  {
   "cell_type": "code",
   "execution_count": 4,
   "id": "b53fad6f",
   "metadata": {},
   "outputs": [
    {
     "name": "stdout",
     "output_type": "stream",
     "text": [
      "4.0\n",
      "27.0\n"
     ]
    }
   ],
   "source": [
    "from math import sqrt, pow\n",
    "\n",
    "print(sqrt(16))\n",
    "print(pow(3,3))"
   ]
  },
  {
   "cell_type": "code",
   "execution_count": 5,
   "id": "af7eda4e",
   "metadata": {},
   "outputs": [
    {
     "name": "stdout",
     "output_type": "stream",
     "text": [
      "Module not found\n"
     ]
    }
   ],
   "source": [
    "try:\n",
    "    import non_existent\n",
    "\n",
    "except ImportError:\n",
    "    print('Module not found')    "
   ]
  },
  {
   "cell_type": "code",
   "execution_count": 6,
   "id": "9c2c6adc",
   "metadata": {},
   "outputs": [
    {
     "name": "stdout",
     "output_type": "stream",
     "text": [
      "['mypackage', '3.3-Sets.ipynb', '4-functions.ipynb', '3.2-Tuples.ipynb', '3.4-Dictionaries.ipynb', '3.1.1-ListExample.ipynb', '5-Modules.ipynb', 'my-folder']\n"
     ]
    }
   ],
   "source": [
    "import os\n",
    "\n",
    "if not os.path.exists(\"my-folder\"):\n",
    "    os.mkdir(\"my-folder\")\n",
    "print(os.listdir(\".\"))\n",
    "os.rmdir(\"my-folder\")"
   ]
  },
  {
   "cell_type": "code",
   "execution_count": 7,
   "id": "db788925",
   "metadata": {},
   "outputs": [
    {
     "name": "stdout",
     "output_type": "stream",
     "text": [
      "3.12.0 | packaged by Anaconda, Inc. | (main, Oct  2 2023, 12:22:05) [Clang 14.0.6 ]\n",
      "['/Users/andreanmol/Documents/practice/python-learn/venv/lib/python3.12/site-packages/ipykernel_launcher.py', '--f=/Users/andreanmol/Library/Jupyter/runtime/kernel-v3e91db40588e0a305b1c5f4d361d229d5768798d5.json']\n"
     ]
    }
   ],
   "source": [
    "import sys\n",
    "print(sys.version)\n",
    "print(sys.argv)"
   ]
  },
  {
   "cell_type": "code",
   "execution_count": 8,
   "id": "500bbe4b",
   "metadata": {},
   "outputs": [
    {
     "name": "stdout",
     "output_type": "stream",
     "text": [
      "6\n",
      "120\n"
     ]
    }
   ],
   "source": [
    "import math\n",
    "\n",
    "print(math.gcd(48, 18))\n",
    "print(math.factorial(5))"
   ]
  },
  {
   "cell_type": "code",
   "execution_count": 9,
   "id": "1c72c38a",
   "metadata": {},
   "outputs": [
    {
     "name": "stdout",
     "output_type": "stream",
     "text": [
      "Today's date: today\n",
      "Date 100 days from today: 2025-12-04 12:53:02.255497\n",
      "Day of the week for 2022-01-01: Saturday\n"
     ]
    }
   ],
   "source": [
    "import datetime\n",
    "today = datetime.datetime.today()\n",
    "print(f\"Today's date: today\")\n",
    "\n",
    "future_date = today + datetime.timedelta(days=100)\n",
    "print(f\"Date 100 days from today: {future_date}\")\n",
    "\n",
    "# Day of the week for a given date\n",
    "given_date = datetime.date(2022, 1, 1)\n",
    "print(f\"Day of the week for 2022-01-01: {given_date.strftime('%A')}\")\n",
    "\n"
   ]
  },
  {
   "cell_type": "code",
   "execution_count": 10,
   "id": "ab192c61",
   "metadata": {},
   "outputs": [
    {
     "name": "stdout",
     "output_type": "stream",
     "text": [
      "[14, 44, 40, 50, 28]\n"
     ]
    }
   ],
   "source": [
    "import random\n",
    "random_numbers = [random.randint(1,50) for _ in range(5)]\n",
    "print(random_numbers)\n",
    "\n",
    "lst = [1,2,3,4,5]\n",
    "\n",
    "random.shuffle(lst)\n"
   ]
  },
  {
   "cell_type": "code",
   "execution_count": 11,
   "id": "b5ad76d7",
   "metadata": {},
   "outputs": [
    {
     "name": "stdout",
     "output_type": "stream",
     "text": [
      "3\n",
      "3\n"
     ]
    }
   ],
   "source": [
    "from mypackage import module1, module2\n",
    "print(module1.add(1,2))\n",
    "print(module2.multiply(1,3))"
   ]
  },
  {
   "cell_type": "code",
   "execution_count": 12,
   "id": "0330a028",
   "metadata": {},
   "outputs": [
    {
     "name": "stdout",
     "output_type": "stream",
     "text": [
      "5\n",
      "6\n"
     ]
    }
   ],
   "source": [
    "from mypackage import add, multiply\n",
    "\n",
    "\n",
    "print(add(2, 3))  # 5\n",
    "print(multiply(2, 3))  # 6"
   ]
  },
  {
   "cell_type": "code",
   "execution_count": 13,
   "id": "2f1248ca",
   "metadata": {},
   "outputs": [
    {
     "name": "stdout",
     "output_type": "stream",
     "text": [
      "The sum is: 15\n",
      "The product is: 50\n"
     ]
    }
   ],
   "source": [
    "# Now you can import directly from 'mypackage'\n",
    "from mypackage import add, multiply\n",
    "\n",
    "# Use the functions\n",
    "sum_result = add(10, 5)\n",
    "product_result = multiply(10, 5)\n",
    "\n",
    "print(f\"The sum is: {sum_result}\")\n",
    "print(f\"The product is: {product_result}\")"
   ]
  },
  {
   "cell_type": "code",
   "execution_count": null,
   "id": "b4e6b299",
   "metadata": {},
   "outputs": [],
   "source": []
  }
 ],
 "metadata": {
  "kernelspec": {
   "display_name": "Python 3",
   "language": "python",
   "name": "python3"
  },
  "language_info": {
   "codemirror_mode": {
    "name": "ipython",
    "version": 3
   },
   "file_extension": ".py",
   "mimetype": "text/x-python",
   "name": "python",
   "nbconvert_exporter": "python",
   "pygments_lexer": "ipython3",
   "version": "3.12.0"
  }
 },
 "nbformat": 4,
 "nbformat_minor": 5
}
