{
 "cells": [
  {
   "cell_type": "code",
   "execution_count": 11,
   "id": "15f51488",
   "metadata": {},
   "outputs": [
    {
     "name": "stdout",
     "output_type": "stream",
     "text": [
      "result 89\n"
     ]
    }
   ],
   "source": [
    "# Assignment 1\n",
    "# Define recursive function to calculate te nth Fibonacci number using memoization. Test the function with different inputs\n",
    "def fibonacci(n, memo={}):\n",
    "    if n in memo:\n",
    "        return memo[n]\n",
    "    if n <= 1:\n",
    "        return n\n",
    "    memo[n] = fibonacci(n - 1, memo) + fibonacci(n - 2, memo)\n",
    "    return memo[n]\n",
    "print('result',fibonacci(11))    "
   ]
  },
  {
   "cell_type": "code",
   "execution_count": 13,
   "id": "81282628",
   "metadata": {},
   "outputs": [
    {
     "name": "stdout",
     "output_type": "stream",
     "text": [
      "{2: 4}\n",
      "{1: 1, 3: 9}\n"
     ]
    }
   ],
   "source": [
    "# Assignment 2: Function with Nested Default Arguments\n",
    "\n",
    "# Define a function that takes two arguments, a and b, where b is a dictionary with a default value of an empty dictionary. The function should add a new key-value pair to the dictionary and return it. Test the function with different inputs.\n",
    "\n",
    "\n",
    "def add_to_dict(a, b=None):\n",
    "    if b is None:\n",
    "        b = {}\n",
    "    b[a] = a**2\n",
    "    return b\n",
    "\n",
    "# Test \n",
    "print(add_to_dict(2))\n",
    "print(add_to_dict(3,{1:1}))"
   ]
  },
  {
   "cell_type": "code",
   "execution_count": null,
   "id": "b7bbecc2",
   "metadata": {},
   "outputs": [
    {
     "name": "stdout",
     "output_type": "stream",
     "text": [
      "{'a': 1}\n"
     ]
    },
    {
     "data": {
      "text/plain": [
       "True"
      ]
     },
     "execution_count": 18,
     "metadata": {},
     "output_type": "execute_result"
    }
   ],
   "source": [
    "def filter_integers(**kwargs):\n",
    "    return {k: v for k, v in kwargs.items() if isinstance(v, int)}\n",
    "\n",
    "\n",
    "print(filter_integers(a=1, b=\"two\", c=\"3\", d=4.5))"
   ]
  },
  {
   "cell_type": "code",
   "execution_count": 20,
   "id": "9dd1f23a",
   "metadata": {},
   "outputs": [
    {
     "name": "stdout",
     "output_type": "stream",
     "text": [
      "[1, 4, 9, 16]\n"
     ]
    }
   ],
   "source": [
    "def apply_callback(callback, lst):\n",
    "    return [callback(x) for x in lst]\n",
    "\n",
    "\n",
    "print(apply_callback(lambda x: x**2, [1,2,3,4]))"
   ]
  },
  {
   "cell_type": "code",
   "execution_count": 21,
   "id": "fc523c3c",
   "metadata": {},
   "outputs": [
    {
     "name": "stdout",
     "output_type": "stream",
     "text": [
      "4\n"
     ]
    }
   ],
   "source": [
    "def outer_function():\n",
    "    def inner_function(x):\n",
    "        return x**2\n",
    "\n",
    "    return inner_function\n",
    "\n",
    "\n",
    "square = outer_function()\n",
    "print(square(2))"
   ]
  },
  {
   "cell_type": "code",
   "execution_count": 29,
   "id": "5ca75f56",
   "metadata": {},
   "outputs": [
    {
     "name": "stdout",
     "output_type": "stream",
     "text": [
      "Function complex_calcultion took 0.12118887901306152 seconds to execute\n",
      "333332833333500000\n"
     ]
    }
   ],
   "source": [
    "import time\n",
    "\n",
    "\n",
    "def timer_decorator(func):\n",
    "    def wrapper(*args, **kwargs):\n",
    "        start_time = time.time()\n",
    "        result = func(*args, **kwargs)\n",
    "        end_time = time.time()\n",
    "        print(\n",
    "            f\"Function {func.__name__} took {end_time - start_time} seconds to execute\"\n",
    "        )\n",
    "        return result;\n",
    "\n",
    "    return wrapper\n",
    "\n",
    "@timer_decorator     \n",
    "def complex_calcultion(n):\n",
    "    return sum(x**2 for x in range(n))\n",
    "\n",
    "print(complex_calcultion(1000000))       "
   ]
  },
  {
   "cell_type": "code",
   "execution_count": 32,
   "id": "8a268ca7",
   "metadata": {},
   "outputs": [
    {
     "name": "stdout",
     "output_type": "stream",
     "text": [
      "[4, 16]\n",
      "[4, 5, 6]\n"
     ]
    }
   ],
   "source": [
    "def filter_and_map(filter_func, map_func, lst):\n",
    "    return [map_func(x) for x in lst if filter_func(x)]\n",
    "\n",
    "\n",
    "print(filter_and_map(lambda x: x % 2 == 0, lambda x: x**2, [1, 2, 3, 4, 5]))\n",
    "print(filter_and_map(lambda x: x > 2, lambda x: x + 1, [1, 2, 3, 4, 5]))"
   ]
  },
  {
   "cell_type": "code",
   "execution_count": 33,
   "id": "16bf98e0",
   "metadata": {},
   "outputs": [
    {
     "name": "stdout",
     "output_type": "stream",
     "text": [
      "7\n"
     ]
    }
   ],
   "source": [
    "def compose(f, g):\n",
    "    return lambda x: f(g(x))\n",
    "\n",
    "\n",
    "f = lambda x: x + 1\n",
    "g = lambda x: x * 2\n",
    "\n",
    "h = compose(f, g)\n",
    "\n",
    "print(h(3))"
   ]
  },
  {
   "cell_type": "code",
   "execution_count": 35,
   "id": "c3502365",
   "metadata": {},
   "outputs": [
    {
     "name": "stdout",
     "output_type": "stream",
     "text": [
      "6\n"
     ]
    }
   ],
   "source": [
    "from functools import partial\n",
    "\n",
    "multiply_by_2 = partial(lambda x,z: x*z,2)\n",
    "\n",
    "print(multiply_by_2(3))"
   ]
  },
  {
   "cell_type": "code",
   "execution_count": 40,
   "id": "58535ede",
   "metadata": {},
   "outputs": [
    {
     "name": "stdout",
     "output_type": "stream",
     "text": [
      "3.0\n"
     ]
    }
   ],
   "source": [
    "def average(lst):\n",
    "    try:\n",
    "        return sum(lst) / len(lst)\n",
    "    except ZeroDivisionError:\n",
    "        return None \n",
    "        \n",
    "\n",
    "print(average([1,2,3,4,5]))   \n",
    "# print(average(['122']))        "
   ]
  },
  {
   "cell_type": "code",
   "execution_count": 46,
   "id": "ebea9ee7",
   "metadata": {},
   "outputs": [
    {
     "name": "stdout",
     "output_type": "stream",
     "text": [
      "chalo\n",
      "Before yield 0 1\n",
      "lo agya 0\n",
      "After yield 1 1\n",
      "Before yield 1 1\n",
      "lo agya 1\n",
      "After yield 1 2\n",
      "Before yield 1 2\n",
      "lo agya 1\n",
      "After yield 2 3\n",
      "Before yield 2 3\n",
      "lo agya 2\n",
      "After yield 3 5\n",
      "Before yield 3 5\n",
      "lo agya 3\n",
      "After yield 5 8\n",
      "Before yield 5 8\n",
      "lo agya 5\n",
      "After yield 8 13\n",
      "Before yield 8 13\n",
      "lo agya 8\n",
      "After yield 13 21\n",
      "Before yield 13 21\n",
      "lo agya 13\n",
      "After yield 21 34\n",
      "Before yield 21 34\n",
      "lo agya 21\n",
      "After yield 34 55\n",
      "Before yield 34 55\n",
      "lo agya 34\n"
     ]
    }
   ],
   "source": [
    "def fibonacci_generator():\n",
    "    a, b = 0, 1\n",
    "    print(\"chalo\")\n",
    "\n",
    "    while True:\n",
    "        print(\"Before yield\", a, b)\n",
    "        yield a\n",
    "\n",
    "        a, b = b, a + b\n",
    "        print(\"After yield\", a, b)\n",
    "\n",
    "\n",
    "fib_gen = fibonacci_generator()\n",
    "for _ in range(10):\n",
    "    print('lo agya',next(fib_gen))"
   ]
  },
  {
   "cell_type": "code",
   "execution_count": 2,
   "id": "3154deac",
   "metadata": {},
   "outputs": [
    {
     "name": "stdout",
     "output_type": "stream",
     "text": [
      "24\n",
      "30\n"
     ]
    }
   ],
   "source": [
    "def curry_product(x):\n",
    "    def inner1(y):\n",
    "        def inner2(z):\n",
    "            return x * y * z\n",
    "\n",
    "        return inner2\n",
    "\n",
    "    return inner1\n",
    "\n",
    "\n",
    "print(curry_product(2)(3)(4))\n",
    "print(curry_product(1)(5)(6))"
   ]
  },
  {
   "cell_type": "markdown",
   "id": "7ca2dc26",
   "metadata": {},
   "source": []
  }
 ],
 "metadata": {
  "kernelspec": {
   "display_name": "Python 3",
   "language": "python",
   "name": "python3"
  },
  "language_info": {
   "codemirror_mode": {
    "name": "ipython",
    "version": 3
   },
   "file_extension": ".py",
   "mimetype": "text/x-python",
   "name": "python",
   "nbconvert_exporter": "python",
   "pygments_lexer": "ipython3",
   "version": "3.12.0"
  }
 },
 "nbformat": 4,
 "nbformat_minor": 5
}
