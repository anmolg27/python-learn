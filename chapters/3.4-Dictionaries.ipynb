{
 "cells": [
  {
   "cell_type": "markdown",
   "id": "124ab651",
   "metadata": {},
   "source": [
    "## Introduction to Dictionaries\n",
    "\n",
    "Dictionaries are unordered collections of items. They store data in key-value pairs. Keys must be unique and immutable (e.g., string, numbers, or tuples), while values can be of any type."
   ]
  },
  {
   "cell_type": "code",
   "execution_count": 5,
   "id": "d9ee7f50",
   "metadata": {},
   "outputs": [
    {
     "name": "stdout",
     "output_type": "stream",
     "text": [
      "<class 'dict'>\n"
     ]
    }
   ],
   "source": [
    "## Creating a dictionary\n",
    "empty_dict = {}\n",
    "print(type(empty_dict))\n",
    "\n",
    "empty_dict = dict()\n"
   ]
  },
  {
   "cell_type": "code",
   "execution_count": 8,
   "id": "3ee676ea",
   "metadata": {},
   "outputs": [
    {
     "name": "stdout",
     "output_type": "stream",
     "text": [
      "{'name': 'Krish', 'age': 32, 'grade': 24}\n",
      "<class 'dict'>\n"
     ]
    }
   ],
   "source": [
    "student = {\"name\": \"Krish\", \"age\": 32, \"grade\": 24}\n",
    "print(student)\n",
    "print(type(student))"
   ]
  },
  {
   "cell_type": "code",
   "execution_count": null,
   "id": "48642aaa",
   "metadata": {},
   "outputs": [
    {
     "name": "stdout",
     "output_type": "stream",
     "text": [
      "{'name': 24, 'age': 32, 'grade': 24}\n"
     ]
    }
   ],
   "source": [
    "# Always use single key otherwise there will be weird behaviors\n",
    "student = {\"name\": \"Krish\", \"age\": 32, \"grade\": 24, \"name\": 24}\n",
    "\n",
    "# the second \"name\": 24 will gonna override the value of name which was \"Krish\"\n",
    "print(student)"
   ]
  },
  {
   "cell_type": "code",
   "execution_count": 19,
   "id": "a6a0859b",
   "metadata": {},
   "outputs": [
    {
     "name": "stdout",
     "output_type": "stream",
     "text": [
      "A\n",
      "Krish\n",
      "32\n",
      "A\n",
      "Krish\n",
      "None\n",
      "Not Available\n"
     ]
    }
   ],
   "source": [
    "# Accessing Dictionary Elements\n",
    "student = {\n",
    "    \"name\": \"Krish\",\n",
    "    \"age\": 32,\n",
    "    \"grade\": \"A\",\n",
    "}\n",
    "print(student[\"grade\"])\n",
    "print(student[\"name\"])\n",
    "print(student[\"age\"])\n",
    "# print(student[\"last_name\"]) # This will throw the KeyError because last_name is not defined in student dictionary data\n",
    "\n",
    "# Other way of accessing dictionary elements using get method\n",
    "print(student.get(\"grade\"))\n",
    "print(student.get(\"name\"))\n",
    "print(student.get(\"last_name\"))  # This will give None and not gonna throw the KeyError\n",
    "print(student.get(\"last_name\", \"Not Available\")) # returns \"Not Available\" if its not there in dictionary"
   ]
  },
  {
   "cell_type": "code",
   "execution_count": null,
   "id": "7b56ac97",
   "metadata": {},
   "outputs": [
    {
     "name": "stdout",
     "output_type": "stream",
     "text": [
      "{'name': 'Krish', 'age': 32, 'grade': 'A'}\n"
     ]
    }
   ],
   "source": [
    "# Modifying Dictionary Elements\n",
    "# Dictionary are mutable, so you can add, update or delete elements\n",
    "print(student)"
   ]
  },
  {
   "cell_type": "code",
   "execution_count": 26,
   "id": "6ac6ff66",
   "metadata": {},
   "outputs": [
    {
     "name": "stdout",
     "output_type": "stream",
     "text": [
      "{'name': 'Krish', 'age': 33, 'grade': 'A', 'address': 'India'}\n",
      "{'name': 'Krish', 'age': 33, 'grade': 'A', 'address': 'India'}\n"
     ]
    }
   ],
   "source": [
    "student[\"age\"] = 33 # update value for the key\n",
    "print(student)\n",
    "student[\"address\"] = \"India\" # Added a new key and value\n",
    "print(student)"
   ]
  },
  {
   "cell_type": "code",
   "execution_count": 27,
   "id": "7bb81ab0",
   "metadata": {},
   "outputs": [
    {
     "name": "stdout",
     "output_type": "stream",
     "text": [
      "{'name': 'Krish', 'age': 33, 'address': 'India'}\n"
     ]
    }
   ],
   "source": [
    "# Delete any key of dictionary\n",
    "del student[\"grade\"] # This deletes the key-value pair\n",
    "print(student)\n"
   ]
  },
  {
   "cell_type": "code",
   "execution_count": 33,
   "id": "60c560c4",
   "metadata": {},
   "outputs": [
    {
     "name": "stdout",
     "output_type": "stream",
     "text": [
      "dict_keys(['name', 'age', 'address'])\n",
      "dict_values(['Krish', 33, 'India'])\n",
      "dict_items([('name', 'Krish'), ('age', 33), ('address', 'India')])\n"
     ]
    }
   ],
   "source": [
    "# Dictionary methods\n",
    "\n",
    "keys = student.keys() # Get all the keys\n",
    "print(keys)\n",
    "values = student.values() # Get all the values\n",
    "print(values)\n",
    "\n",
    "items = student.items() # Get all key value pairs, it returns list of tuples\n",
    "print(items)"
   ]
  },
  {
   "cell_type": "code",
   "execution_count": 39,
   "id": "0d17137e",
   "metadata": {},
   "outputs": [
    {
     "name": "stdout",
     "output_type": "stream",
     "text": [
      "{'name': 'Raju', 'age': 33, 'address': 'India'}\n",
      "{'name': 'Raju', 'age': 33, 'address': 'India'}\n",
      "{'name': 'Raju', 'age': 33, 'address': 'India'}\n",
      "{'name': 'Raju', 'age': 33, 'address': 'India'}\n"
     ]
    }
   ],
   "source": [
    "# Shallow copy(Very important)\n",
    "\n",
    "student_copy = student\n",
    "print(student_copy)\n",
    "print(student)\n",
    "student[\"name\"] = \"Raju\"\n",
    "\n",
    "# This updates the student_copy as well\n",
    "print(student)\n",
    "print(student_copy)\n"
   ]
  },
  {
   "cell_type": "code",
   "execution_count": 41,
   "id": "3dbf2e33",
   "metadata": {},
   "outputs": [
    {
     "name": "stdout",
     "output_type": "stream",
     "text": [
      "{'name': 'Raju', 'age': 33, 'address': 'India'}\n",
      "{'name': 'Raju', 'age': 33, 'address': 'India'}\n",
      "{'name': 'Anmol', 'age': 33, 'address': 'India'}\n",
      "{'name': 'Raju', 'age': 33, 'address': 'India'}\n"
     ]
    }
   ],
   "source": [
    "student_copy1 = student.copy() # Shallow copy\n",
    "print(student_copy1)\n",
    "print(student)\n",
    "\n",
    "student['name'] = 'Anmol'\n",
    "\n",
    "print(student)\n",
    "print(student_copy1)"
   ]
  },
  {
   "cell_type": "code",
   "execution_count": 42,
   "id": "f9d2a7e4",
   "metadata": {},
   "outputs": [
    {
     "name": "stdout",
     "output_type": "stream",
     "text": [
      "name\n",
      "age\n",
      "address\n"
     ]
    }
   ],
   "source": [
    "# Iterating over dictionaries\n",
    "# Can use loops to iterate over dictionaries, keys, values or items\n",
    "\n",
    "# Iterating over keys\n",
    "for keys in student.keys():\n",
    "    print(keys)"
   ]
  },
  {
   "cell_type": "code",
   "execution_count": null,
   "id": "c41cbafc",
   "metadata": {},
   "outputs": [
    {
     "name": "stdout",
     "output_type": "stream",
     "text": [
      "Anmol\n",
      "33\n",
      "India\n"
     ]
    }
   ],
   "source": [
    "# Iterating over values\n",
    "for value in student.values():\n",
    "    print(value)"
   ]
  },
  {
   "cell_type": "code",
   "execution_count": 44,
   "id": "5c68d6f1",
   "metadata": {},
   "outputs": [
    {
     "name": "stdout",
     "output_type": "stream",
     "text": [
      "name: Anmol\n",
      "age: 33\n",
      "address: India\n"
     ]
    }
   ],
   "source": [
    "for key, value in student.items():\n",
    "    print(f\"{key}: {value}\")\n",
    "\n",
    "    "
   ]
  },
  {
   "cell_type": "code",
   "execution_count": null,
   "id": "6c988c3a",
   "metadata": {},
   "outputs": [
    {
     "name": "stdout",
     "output_type": "stream",
     "text": [
      "{'student1': {'name': 'Krish', 'age': 32}, 'student2': {'name': 'Peter', 'age': 35}}\n",
      "32\n"
     ]
    }
   ],
   "source": [
    "# Nested Dictionaries\n",
    "students = {\n",
    "    \"student1\": {\n",
    "        \"name\": \"Krish\",\n",
    "        \"age\": 32,\n",
    "    },\n",
    "    \"student2\": {\"name\": \"Peter\", \"age\": 35},\n",
    "}\n",
    "print(students)"
   ]
  },
  {
   "cell_type": "code",
   "execution_count": 5,
   "id": "b022d521",
   "metadata": {},
   "outputs": [
    {
     "name": "stdout",
     "output_type": "stream",
     "text": [
      "Peter\n",
      "35\n"
     ]
    }
   ],
   "source": [
    "# Access nested dictionaries elements\n",
    "print(students['student2']['name'])\n",
    "print(students['student2']['age'])"
   ]
  },
  {
   "cell_type": "code",
   "execution_count": 8,
   "id": "5f04ab65",
   "metadata": {},
   "outputs": [
    {
     "name": "stdout",
     "output_type": "stream",
     "text": [
      "student1: {'name': 'Krish', 'age': 32}\n",
      "name: Krish\n",
      "age: 32\n",
      "student2: {'name': 'Peter', 'age': 35}\n",
      "name: Peter\n",
      "age: 35\n"
     ]
    }
   ],
   "source": [
    "# Iterating over nested dictionaries\n",
    "for student_id, student_info in students.items():\n",
    "    print(f\"{student_id}: {student_info}\")\n",
    "    for key, value in student_info.items():\n",
    "        print(f\"{key}: {value}\")"
   ]
  },
  {
   "cell_type": "code",
   "execution_count": 9,
   "id": "284fc716",
   "metadata": {},
   "outputs": [
    {
     "name": "stdout",
     "output_type": "stream",
     "text": [
      "{0: 0, 1: 1, 2: 4, 3: 9}\n"
     ]
    }
   ],
   "source": [
    "# Dictionaries Comprehension\n",
    "squares = {x: x**2 for x in range(4)}\n",
    "print(squares)"
   ]
  },
  {
   "cell_type": "code",
   "execution_count": 12,
   "id": "a2266625",
   "metadata": {},
   "outputs": [
    {
     "name": "stdout",
     "output_type": "stream",
     "text": [
      "{0: 0, 2: 4, 4: 16, 6: 36, 8: 64}\n"
     ]
    }
   ],
   "source": [
    "# Conditional Dictionary Comprehension\n",
    "\n",
    "evens = {x: x**2 for x in range(10) if x % 2 == 0}\n",
    "print(evens)"
   ]
  },
  {
   "cell_type": "code",
   "execution_count": null,
   "id": "eeed00ac",
   "metadata": {},
   "outputs": [
    {
     "data": {
      "text/plain": [
       "'This is Zero'"
      ]
     },
     "execution_count": 22,
     "metadata": {},
     "output_type": "execute_result"
    }
   ],
   "source": [
    "# Practical Examples\n",
    "\n",
    "# Task: Use a dictionary to count the frequency of elements in list\n",
    "\n",
    "# lst = [1, 2, 3, 4, 1, 2, True, \"Hello\", \"Hello\", False, 10, 1]\n",
    "\n",
    "# counts = {}\n",
    "\n",
    "# for item in lst:\n",
    "#     print(f\"item: {item}\")\n",
    "#     print(\"counts object initially:\", counts)\n",
    "#     counts[item] = counts.get(item, 0) + 1\n",
    "#     print('after count: ', counts)\n",
    "#     print()\n",
    "\n",
    "# print(counts) \n",
    "\n",
    "# item = {1:'Hello', 0: 'This is Zero'}\n",
    "# item.get(False)   \n",
    "\n",
    "# Note: We discovered that if the item is {1:'This is One, 0: This is zero}\n",
    "# and we then item.get(1) and item.get(True) will gonna give 'This is One'\n",
    "# And item.get(0) and item.get(False) will gonna give 'This is zero'"
   ]
  },
  {
   "cell_type": "code",
   "execution_count": 23,
   "id": "e273bb7f",
   "metadata": {},
   "outputs": [
    {
     "name": "stdout",
     "output_type": "stream",
     "text": [
      "{'a': 1, 'b': 3, 'c': 4}\n"
     ]
    }
   ],
   "source": [
    "# Merge 2 dictionaries\n",
    "dict1 = {'a': 1, 'b': 2}\n",
    "dict2 = {'b': 3, 'c': 4}\n",
    "merged_dict = {**dict1, **dict2}\n",
    "print(merged_dict)"
   ]
  },
  {
   "cell_type": "code",
   "execution_count": null,
   "id": "4e0b8c4a",
   "metadata": {},
   "outputs": [],
   "source": []
  }
 ],
 "metadata": {
  "kernelspec": {
   "display_name": "Python 3",
   "language": "python",
   "name": "python3"
  },
  "language_info": {
   "codemirror_mode": {
    "name": "ipython",
    "version": 3
   },
   "file_extension": ".py",
   "mimetype": "text/x-python",
   "name": "python",
   "nbconvert_exporter": "python",
   "pygments_lexer": "ipython3",
   "version": "3.12.0"
  }
 },
 "nbformat": 4,
 "nbformat_minor": 5
}
