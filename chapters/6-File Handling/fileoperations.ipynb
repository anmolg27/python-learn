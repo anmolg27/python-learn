{
 "cells": [
  {
   "cell_type": "markdown",
   "id": "c718299f",
   "metadata": {},
   "source": [
    "# File Operation- Read And Write Files\n",
    "\n",
    "File handling is a crucial part of any programming language. Python provides build-in functions and methods to read from and write to files, both text and binary. This will cover the basics of file handling, including reading and writing text files and binary files."
   ]
  },
  {
   "cell_type": "code",
   "execution_count": null,
   "id": "9b569b06",
   "metadata": {},
   "outputs": [
    {
     "name": "stdout",
     "output_type": "stream",
     "text": [
      "<_io.TextIOWrapper name='example.txt' mode='r' encoding='utf-8'>\n"
     ]
    }
   ],
   "source": [
    "# Read a Whole File\n",
    "\n",
    "with open('example.txt','r') as file:\n",
    "    content = file.read()\n",
    "    print(content)\n"
   ]
  },
  {
   "cell_type": "code",
   "execution_count": 9,
   "id": "853fc929",
   "metadata": {},
   "outputs": [
    {
     "name": "stdout",
     "output_type": "stream",
     "text": [
      "Hello World!\n",
      "this is a new line.This is a new line appended\n",
      "\n",
      "This is a new line appended\n",
      "First line\n",
      "Second line\n",
      "Third line\n"
     ]
    }
   ],
   "source": [
    "# Read a file line by line\n",
    "with open('example.txt', 'r') as file:\n",
    "    for line in file:\n",
    "        print(line.strip()) # strip() removes the newline character\n",
    "        "
   ]
  },
  {
   "cell_type": "code",
   "execution_count": 6,
   "id": "b2008077",
   "metadata": {},
   "outputs": [],
   "source": [
    "# Writing a file(Overwriting)\n",
    "\n",
    "with open('example.txt','w') as file:\n",
    "    file.write('Hello World!\\n')\n",
    "    file.write('this is a new line.')"
   ]
  },
  {
   "cell_type": "code",
   "execution_count": 2,
   "id": "aa3beb3f",
   "metadata": {},
   "outputs": [],
   "source": [
    "# write a file(without Overwriting)\n",
    "with open(\"example.txt\", \"a\") as file:\n",
    "    file.write('\\nThis is a new line appended\\n')"
   ]
  },
  {
   "cell_type": "code",
   "execution_count": 3,
   "id": "b78f2759",
   "metadata": {},
   "outputs": [],
   "source": [
    "# Writing a list of lines to a file\n",
    "lines = [\"First line \\n\", \"Second line \\n\", \"Third line\\n\"]\n",
    "with open('example.txt','a') as file:\n",
    "    file.writelines(lines)\n"
   ]
  },
  {
   "cell_type": "code",
   "execution_count": null,
   "id": "b923fdc7",
   "metadata": {},
   "outputs": [],
   "source": [
    "# Binary Files\n",
    "\n",
    "# Writing to a binary file\n",
    "data = b'\\x00\\x01\\x02\\x03\\x04'\n",
    "\n",
    "with open('example.bin','wb') as file:\n",
    "    file.write(data)\n",
    "\n",
    "    "
   ]
  },
  {
   "cell_type": "code",
   "execution_count": 5,
   "id": "a1f8cd86",
   "metadata": {},
   "outputs": [
    {
     "name": "stdout",
     "output_type": "stream",
     "text": [
      "b'\\x00\\x01\\x02\\x03\\x04'\n"
     ]
    }
   ],
   "source": [
    "# Reading a binary file\n",
    "with open('example.bin','rb') as file:\n",
    "    content = file.read()\n",
    "    print(content)\n"
   ]
  },
  {
   "cell_type": "code",
   "execution_count": 8,
   "id": "ad7fa173",
   "metadata": {},
   "outputs": [],
   "source": [
    "# Read the content from a source text file and write to a destination text file\n",
    "# Copying a text file\n",
    "with open('example.txt','r') as source_file:\n",
    "    content = source_file.read()\n",
    "with open('destination.txt','w') as destination_file:\n",
    "    destination_file.write(content)    "
   ]
  },
  {
   "cell_type": "code",
   "execution_count": null,
   "id": "9f9d046b",
   "metadata": {},
   "outputs": [],
   "source": []
  },
  {
   "cell_type": "code",
   "execution_count": 12,
   "id": "f7bb8ce0",
   "metadata": {},
   "outputs": [
    {
     "name": "stdout",
     "output_type": "stream",
     "text": [
      "['Hello World!\\n', 'this is a new line.This is a new line appended\\n', '\\n', 'This is a new line appended\\n', 'First line \\n', 'Second line \\n', 'Third line\\n']\n"
     ]
    },
    {
     "data": {
      "text/plain": [
       "(7, 24, 125)"
      ]
     },
     "execution_count": 12,
     "metadata": {},
     "output_type": "execute_result"
    }
   ],
   "source": [
    "# Assignment: Read a text file and count the number of lines, words, and characters.\n",
    "# Counting lines, words, and characters in a text file\n",
    "\n",
    "\n",
    "def count_text_file(file_path: str):\n",
    "    with open(file_path, \"r\") as file:\n",
    "        lines = file.readlines()\n",
    "        print(lines)\n",
    "        line_count = len(lines)\n",
    "        word_count = sum(len(line.split()) for line in lines)\n",
    "        char_count = sum(len(line) for line in lines)\n",
    "    return line_count, word_count, char_count\n",
    "\n",
    "\n",
    "count_text_file(\"example.txt\")"
   ]
  },
  {
   "cell_type": "markdown",
   "id": "6b8fea0d",
   "metadata": {},
   "source": [
    "The w+ mode in python is used to open a file for both reading and writing. If the file does not exist, it will be created. If the file exists, it contents is truncated(i.e., the file is overwritten)"
   ]
  },
  {
   "cell_type": "code",
   "execution_count": 14,
   "id": "2dd74f77",
   "metadata": {},
   "outputs": [
    {
     "name": "stdout",
     "output_type": "stream",
     "text": [
      "Hello world\n",
      "This is a new line \n",
      "\n"
     ]
    }
   ],
   "source": [
    "# Writing and then reading a file\n",
    "\n",
    "with open('example.txt','w+') as file:\n",
    "    file.write('Hello world\\n')\n",
    "    file.write('This is a new line \\n')\n",
    "\n",
    "    # Move the file cursor to the beginning\n",
    "    file.seek(0)\n",
    "\n",
    "    # Read the content of the file\n",
    "    content = file.read()\n",
    "    print(content)\n"
   ]
  },
  {
   "cell_type": "code",
   "execution_count": null,
   "id": "6c6be847",
   "metadata": {},
   "outputs": [],
   "source": []
  }
 ],
 "metadata": {
  "kernelspec": {
   "display_name": "Python 3",
   "language": "python",
   "name": "python3"
  },
  "language_info": {
   "codemirror_mode": {
    "name": "ipython",
    "version": 3
   },
   "file_extension": ".py",
   "mimetype": "text/x-python",
   "name": "python",
   "nbconvert_exporter": "python",
   "pygments_lexer": "ipython3",
   "version": "3.12.0"
  }
 },
 "nbformat": 4,
 "nbformat_minor": 5
}
