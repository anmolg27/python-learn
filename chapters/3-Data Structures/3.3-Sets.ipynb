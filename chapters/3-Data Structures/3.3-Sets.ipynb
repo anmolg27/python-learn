{
 "cells": [
  {
   "cell_type": "markdown",
   "id": "96519a74",
   "metadata": {},
   "source": [
    "### Sets\n",
    "\n",
    "Sets are a built-in data type in Python used to store collections of unique items. They are unordered, meaning that the elements do not follow a specific order, and they do not allow duplicate element. Sets are useful for membership tests, eliminating duplicate entries, and performing mathematical set operations like union, intersection, difference, and symmetric difference"
   ]
  },
  {
   "cell_type": "code",
   "execution_count": 2,
   "id": "ef4b035a",
   "metadata": {},
   "outputs": [
    {
     "name": "stdout",
     "output_type": "stream",
     "text": [
      "<class 'set'>\n"
     ]
    }
   ],
   "source": [
    "my_empty_set = set()\n",
    "print(type(my_empty_set))"
   ]
  },
  {
   "cell_type": "code",
   "execution_count": 3,
   "id": "f516b630",
   "metadata": {},
   "outputs": [
    {
     "name": "stdout",
     "output_type": "stream",
     "text": [
      "{1, 2, 3, 4, 5}\n",
      "<class 'set'>\n"
     ]
    }
   ],
   "source": [
    "# Create a set\n",
    "\n",
    "my_set = {1, 2, 3, 4, 5}\n",
    "\n",
    "print(my_set)\n",
    "print(type(my_set))"
   ]
  },
  {
   "cell_type": "code",
   "execution_count": 4,
   "id": "1913f4cb",
   "metadata": {},
   "outputs": [
    {
     "name": "stdout",
     "output_type": "stream",
     "text": [
      "{1, 2, 3, 4, 5, 6}\n"
     ]
    }
   ],
   "source": [
    "my_set = set([1,2,3,4,5,6])\n",
    "print(my_set)"
   ]
  },
  {
   "cell_type": "code",
   "execution_count": 5,
   "id": "f13129bb",
   "metadata": {},
   "outputs": [
    {
     "name": "stdout",
     "output_type": "stream",
     "text": [
      "{1, 2, 3, 4, 5, 6}\n"
     ]
    }
   ],
   "source": [
    "my_set = set([1,2,3,4,5,6,5,4,3,6,2,1])\n",
    "print(my_set)"
   ]
  },
  {
   "cell_type": "code",
   "execution_count": 6,
   "id": "72f55fde",
   "metadata": {},
   "outputs": [
    {
     "name": "stdout",
     "output_type": "stream",
     "text": [
      "{1, 2, 3, 4, 5, 6, 7}\n",
      "{1, 2, 3, 4, 5, 6, 7}\n"
     ]
    }
   ],
   "source": [
    "# Basic Sets operations\n",
    "# Adding and Removing Elements\n",
    "my_set.add(7)\n",
    "print(my_set)\n",
    "my_set.add(7)\n",
    "print(my_set)\n"
   ]
  },
  {
   "cell_type": "code",
   "execution_count": 7,
   "id": "ea0e2c9c",
   "metadata": {},
   "outputs": [
    {
     "name": "stdout",
     "output_type": "stream",
     "text": [
      "{1, 2, 4, 5, 6, 7}\n"
     ]
    }
   ],
   "source": [
    "# Remove the elements from a set\n",
    "\n",
    "my_set.remove(3)\n",
    "print(my_set)\n"
   ]
  },
  {
   "cell_type": "code",
   "execution_count": 9,
   "id": "997e6d43",
   "metadata": {},
   "outputs": [],
   "source": [
    "# my_set.remove(10) # It will throw an error if the element is not present in the set\n",
    "my_set.discard(10) # It will not throw an error if the element is not present in the set\n"
   ]
  },
  {
   "cell_type": "code",
   "execution_count": 10,
   "id": "de3ac235",
   "metadata": {},
   "outputs": [
    {
     "name": "stdout",
     "output_type": "stream",
     "text": [
      "1\n",
      "{2, 4, 5, 6, 7}\n"
     ]
    }
   ],
   "source": [
    "# Pop method\n",
    "# It removes and returns an arbitrary element from the set\n",
    "removed_element = my_set.pop()\n",
    "print(removed_element)\n",
    "print(my_set)\n"
   ]
  },
  {
   "cell_type": "code",
   "execution_count": 11,
   "id": "58898ad4",
   "metadata": {},
   "outputs": [
    {
     "name": "stdout",
     "output_type": "stream",
     "text": [
      "set()\n"
     ]
    }
   ],
   "source": [
    "# Clear all the elements from the set\n",
    "my_set.clear()\n",
    "print(my_set)\n",
    "\n",
    "# print(my_set) # It will throw an error because the set is deleted"
   ]
  },
  {
   "cell_type": "code",
   "execution_count": 12,
   "id": "bbd1aac3",
   "metadata": {},
   "outputs": [
    {
     "name": "stdout",
     "output_type": "stream",
     "text": [
      "True\n",
      "False\n"
     ]
    }
   ],
   "source": [
    "# Set Membership test\n",
    "my_set = {1, 2, 3, 4, 5}\n",
    "\n",
    "print(3 in my_set)\n",
    "print(10 in my_set)"
   ]
  },
  {
   "cell_type": "code",
   "execution_count": 21,
   "id": "17d3d0be",
   "metadata": {},
   "outputs": [
    {
     "name": "stdout",
     "output_type": "stream",
     "text": [
      "{1, 2, 3, 4, 5, 6, 7, 8, 9}\n",
      "{4, 5, 6}\n",
      "{1, 2, 3}\n",
      "{4, 5, 6}\n"
     ]
    }
   ],
   "source": [
    "# Mathematical Set Operations\n",
    "\n",
    "set1 = {1, 2, 3, 4, 5, 6}\n",
    "set2 = {4, 5, 6, 7, 8, 9}\n",
    "\n",
    "# Union - It returns a new set with all the elements from both the sets\n",
    "# Mathematical formula: A ∪ B = {x | x ∈ A or x ∈ B}\n",
    "union_set = set1.union(set2)\n",
    "print(union_set)\n",
    "\n",
    "# Intersection - It returns a new set with the common elements from both the sets\n",
    "# Mathematical formula: A ∩ B = {x | x ∈ A and x ∈ B}\n",
    "intersection_set = set1.intersection(set2)\n",
    "print(intersection_set)\n",
    "\n",
    "# Difference - It returns a new set with the elements from set1 that are not in set2\n",
    "# Mathematical formula: A - B = {x | x ∈ A and x ∉ B}\n",
    "difference_set = set1.difference(set2)\n",
    "print(difference_set)\n",
    "\n",
    "\n",
    "# intersection_update - It updates the set1 with the intersection of set1 and set2\n",
    "\n",
    "set1.intersection_update(set2)\n",
    "print(set1)"
   ]
  },
  {
   "cell_type": "code",
   "execution_count": 23,
   "id": "096d4200",
   "metadata": {},
   "outputs": [
    {
     "name": "stdout",
     "output_type": "stream",
     "text": [
      "{1, 2, 3}\n",
      "{8, 9, 7}\n"
     ]
    }
   ],
   "source": [
    "set1 = {1, 2, 3, 4, 5, 6}\n",
    "set2 = {4, 5, 6, 7, 8, 9}\n",
    "\n",
    "# Difference\n",
    "print(\n",
    "    set1.difference(set2)\n",
    ")  # prints the new set which has all of the elements of set 1 but it doesn't have any common elements which are both in set 1 and set 2\n",
    "print(set2.difference(set1))\n",
    "\n",
    "# set1.difference_update(set2) does the same as set1.difference(set2) but it will store this new printed set in set1\n"
   ]
  },
  {
   "cell_type": "code",
   "execution_count": 24,
   "id": "f55b2c44",
   "metadata": {},
   "outputs": [
    {
     "data": {
      "text/plain": [
       "{1, 2, 3, 7, 8, 9}"
      ]
     },
     "execution_count": 24,
     "metadata": {},
     "output_type": "execute_result"
    }
   ],
   "source": [
    "# Symmetric Difference - It returns a new set with elements that are in either set1 or set2 but not in both\n",
    "# Mathematical formula: A ⊕ B = {x | (x ∈ A or x ∈ B) and x ∉ (A ∩ B)}\n",
    "set1.symmetric_difference(set2)"
   ]
  },
  {
   "cell_type": "code",
   "execution_count": 29,
   "id": "ee63622b",
   "metadata": {},
   "outputs": [
    {
     "name": "stdout",
     "output_type": "stream",
     "text": [
      "False\n",
      "False\n",
      "False\n"
     ]
    }
   ],
   "source": [
    "# Sets methods\n",
    "set1 = {1, 2, 3, 4}\n",
    "set2 = {3, 4, 5}\n",
    "\n",
    "# is subset - It returns True if set1 is a subset of set2\n",
    "print(set1.issubset(set2))\n",
    "\n",
    "# is superset - It returns True if set1 is a superset of set2\n",
    "print(set1.issuperset(set2))\n",
    "\n",
    "# is disjoint - It returns True if set1 and set2 have no common elements\n",
    "print(set1.isdisjoint(set2))\n",
    "\n",
    "# is superset - It returns True if set1 is a superset of set2"
   ]
  },
  {
   "cell_type": "code",
   "execution_count": 33,
   "id": "a349d674",
   "metadata": {},
   "outputs": [
    {
     "name": "stdout",
     "output_type": "stream",
     "text": [
      "[1, 2, 3, 4, 5]\n"
     ]
    }
   ],
   "source": [
    "lt = [1,2,2,3,4,4,5]\n",
    "\n",
    "set(lt)\n",
    "\n",
    "new_list = list(set(lt))\n",
    "print(new_list)\n"
   ]
  },
  {
   "cell_type": "code",
   "execution_count": 46,
   "id": "e68116fd",
   "metadata": {},
   "outputs": [
    {
     "name": "stdout",
     "output_type": "stream",
     "text": [
      "['In', 'this', 'tutorial', 'we', 'are', 'discussing', 'about', 'sets']\n",
      "{'we', 'In', 'tutorial', 'discussing', 'are', 'sets', 'this', 'about'}\n",
      "8\n"
     ]
    }
   ],
   "source": [
    "# Counting Unique words in text\n",
    "text = \"In this tutorial we are discussing about sets\"\n",
    "\n",
    "\n",
    "words = text.split()\n",
    "print(words)\n",
    "\n",
    "# Convert list of words to set to get unique words\n",
    "unique_words = set(words)\n",
    "\n",
    "print(unique_words)\n",
    "print(len(unique_words))"
   ]
  },
  {
   "cell_type": "code",
   "execution_count": null,
   "id": "c99bd4d8",
   "metadata": {},
   "outputs": [],
   "source": []
  }
 ],
 "metadata": {
  "kernelspec": {
   "display_name": "Python 3",
   "language": "python",
   "name": "python3"
  },
  "language_info": {
   "codemirror_mode": {
    "name": "ipython",
    "version": 3
   },
   "file_extension": ".py",
   "mimetype": "text/x-python",
   "name": "python",
   "nbconvert_exporter": "python",
   "pygments_lexer": "ipython3",
   "version": "3.12.0"
  }
 },
 "nbformat": 4,
 "nbformat_minor": 5
}
