{
 "cells": [
  {
   "cell_type": "code",
   "execution_count": 1,
   "id": "95e8b237",
   "metadata": {},
   "outputs": [],
   "source": [
    "# Sytax\n",
    "\n",
    "from ast import Expression\n",
    "\n",
    "\n",
    "def function_name(parameters):\n",
    "    \"\"\"Docstring\"\"\"\n",
    "    # Function body\n",
    "    return Expression\n"
   ]
  },
  {
   "cell_type": "code",
   "execution_count": 2,
   "id": "06dc9859",
   "metadata": {},
   "outputs": [
    {
     "name": "stdout",
     "output_type": "stream",
     "text": [
      "Then number is even\n"
     ]
    }
   ],
   "source": [
    "num = 24\n",
    "if num%2 == 0:\n",
    "    print(\"Then number is even\")\n",
    "else:\n",
    "    print(\"The number is odd\")    "
   ]
  },
  {
   "cell_type": "code",
   "execution_count": 3,
   "id": "13aaa595",
   "metadata": {},
   "outputs": [],
   "source": [
    "def even_or_odd(num):\n",
    "    \"\"\"This function finds even or odd\"\"\"\n",
    "    if num%2 == 0:\n",
    "        print(\"The number is even\")\n",
    "    else:\n",
    "        print(\"The number is odd\") \n",
    "           "
   ]
  },
  {
   "cell_type": "code",
   "execution_count": 4,
   "id": "70c4e678",
   "metadata": {},
   "outputs": [
    {
     "name": "stdout",
     "output_type": "stream",
     "text": [
      "The number is even\n"
     ]
    }
   ],
   "source": [
    "# Call this function\n",
    "even_or_odd(24)"
   ]
  },
  {
   "cell_type": "code",
   "execution_count": 5,
   "id": "1b269ef1",
   "metadata": {},
   "outputs": [
    {
     "name": "stdout",
     "output_type": "stream",
     "text": [
      "5\n"
     ]
    }
   ],
   "source": [
    "# Function with multiple parameters\n",
    "\n",
    "\n",
    "def add(a, b):\n",
    "    return a + b\n",
    "\n",
    "result = add(2,3)\n",
    "print(result)    "
   ]
  },
  {
   "cell_type": "code",
   "execution_count": 6,
   "id": "0304e418",
   "metadata": {},
   "outputs": [
    {
     "name": "stdout",
     "output_type": "stream",
     "text": [
      "Hell Anmol Welcome to the course\n"
     ]
    }
   ],
   "source": [
    "# Default parameters\n",
    "def greet(name):\n",
    "    print(f\"Hell {name} Welcome to the course\")\n",
    "\n",
    "greet(\"Anmol\")"
   ]
  },
  {
   "cell_type": "code",
   "execution_count": 8,
   "id": "da15ea2a",
   "metadata": {},
   "outputs": [
    {
     "name": "stdout",
     "output_type": "stream",
     "text": [
      "Hell Anmol Welcome to the course\n",
      "Hell Guest Welcome to the course\n"
     ]
    }
   ],
   "source": [
    "def greet(name = \"Guest\"):\n",
    "    print(f\"Hell {name} Welcome to the course\")\n",
    "\n",
    "greet(\"Anmol\")\n",
    "greet()"
   ]
  },
  {
   "cell_type": "code",
   "execution_count": 13,
   "id": "8a923880",
   "metadata": {},
   "outputs": [
    {
     "name": "stdout",
     "output_type": "stream",
     "text": [
      "1\n",
      "2\n",
      "3\n",
      "4\n",
      "5\n",
      "Krish\n"
     ]
    }
   ],
   "source": [
    "# Variable Length arguments\n",
    "# Positional and Keyword arguments\n",
    "\n",
    "def print_numbers(*krish):\n",
    "    for item in krish:\n",
    "        print(item)\n",
    "\n",
    "print_numbers(1,2,3,4,5,\"Krish\")"
   ]
  },
  {
   "cell_type": "code",
   "execution_count": 15,
   "id": "d457a16b",
   "metadata": {},
   "outputs": [
    {
     "name": "stdout",
     "output_type": "stream",
     "text": [
      "1\n",
      "2\n",
      "3\n",
      "4\n",
      "1\n",
      "2\n",
      "3\n",
      "4\n",
      "True\n"
     ]
    }
   ],
   "source": [
    "# Positionl arguments\n",
    "def print_numbers(*args):\n",
    "    for item in args:\n",
    "        print(item)\n",
    "\n",
    "print_numbers(1,2,3,4,1,2,3,4,True)        "
   ]
  },
  {
   "cell_type": "code",
   "execution_count": 16,
   "id": "071fa661",
   "metadata": {},
   "outputs": [
    {
     "name": "stdout",
     "output_type": "stream",
     "text": [
      "name:Krish\n",
      "age:28\n",
      "country:India\n"
     ]
    }
   ],
   "source": [
    "# Keyword argumnts\n",
    "\n",
    "\n",
    "def print_details(**kwargs):\n",
    "    for key, value in kwargs.items():\n",
    "        print(f\"{key}:{value}\")\n",
    "\n",
    "\n",
    "print_details(name=\"Krish\", age=28, country=\"India\")"
   ]
  },
  {
   "cell_type": "code",
   "execution_count": 17,
   "id": "b653d19b",
   "metadata": {},
   "outputs": [],
   "source": [
    "def print_details(*args, **kwargs):\n",
    "    for val in args:\n",
    "        print(f\"Positional argument: {val}\")\n",
    "\n",
    "    for key, value in kwargs.items():\n",
    "        print(f\"{key}: {value}\")    "
   ]
  },
  {
   "cell_type": "code",
   "execution_count": 18,
   "id": "5c1316e7",
   "metadata": {},
   "outputs": [
    {
     "name": "stdout",
     "output_type": "stream",
     "text": [
      "Positional argument: 1\n",
      "Positional argument: 2\n",
      "Positional argument: 3\n",
      "Positional argument: 4\n",
      "Positional argument: Krish\n",
      "name: Krish\n",
      "age: 52\n"
     ]
    }
   ],
   "source": [
    "print_details(1,2,3,4,'Krish',name = \"Krish\", age=52)"
   ]
  },
  {
   "cell_type": "code",
   "execution_count": 19,
   "id": "e3941e3d",
   "metadata": {},
   "outputs": [
    {
     "data": {
      "text/plain": [
       "6"
      ]
     },
     "execution_count": 19,
     "metadata": {},
     "output_type": "execute_result"
    }
   ],
   "source": [
    "### Return statements\n",
    "def multiply(a,b):\n",
    "    return a*b\n",
    "\n",
    "multiply(2,3)"
   ]
  },
  {
   "cell_type": "code",
   "execution_count": 20,
   "id": "be541968",
   "metadata": {},
   "outputs": [
    {
     "data": {
      "text/plain": [
       "(6, 2)"
      ]
     },
     "execution_count": 20,
     "metadata": {},
     "output_type": "execute_result"
    }
   ],
   "source": [
    "### Return multiple parameters\n",
    "def multiply(a,b):\n",
    "    return a*b,a\n",
    "\n",
    "multiply(2,3)"
   ]
  },
  {
   "cell_type": "code",
   "execution_count": null,
   "id": "44808ca2",
   "metadata": {},
   "outputs": [],
   "source": []
  }
 ],
 "metadata": {
  "kernelspec": {
   "display_name": "Python 3",
   "language": "python",
   "name": "python3"
  },
  "language_info": {
   "codemirror_mode": {
    "name": "ipython",
    "version": 3
   },
   "file_extension": ".py",
   "mimetype": "text/x-python",
   "name": "python",
   "nbconvert_exporter": "python",
   "pygments_lexer": "ipython3",
   "version": "3.12.0"
  }
 },
 "nbformat": 4,
 "nbformat_minor": 5
}
